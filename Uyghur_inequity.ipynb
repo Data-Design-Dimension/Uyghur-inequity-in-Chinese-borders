{
 "cells": [
  {
   "cell_type": "code",
   "execution_count": 87,
   "metadata": {},
   "outputs": [],
   "source": [
    "import pandas as pd\n",
    "import plotly.express as px"
   ]
  },
  {
   "cell_type": "markdown",
   "metadata": {},
   "source": [
    "# Do Chinese authorities suspect Turkic Muslims inequitably based on their Islamic religion?\n",
    "\n",
    "### Technology in the form of China's Integrated Joint Operations Platform (IJOP, 一体化联合作战平台) bolstered mass surveillance programs targeting Uyghur Muslims, and measure their actions and behavior as suspicious which are not crimes under Chinese law. $^{[1]}$\n",
    "\n",
    "An IJOP mobile app used by police and other Chinese officials in the lands known by the Uyghurs (维吾尔人) as East Turkistan/Turkestan, and perhaps more commonly known to the international world by the name recognized by the People's Republic of China (中华人民共和国 ), Xinjiang Uyghur Autonomous Region (新疆维吾尔自治区)–or just Xinjiang.$^{[1]}$$^{[2]}$"
   ]
  },
  {
   "cell_type": "code",
   "execution_count": 88,
   "metadata": {},
   "outputs": [],
   "source": [
    "# Build dataframe of section III. Categories of People Authorities Find Suspicious,\n",
    "# from the documentation of the questions in the reengineered mass surveillance app used by Xinjiang police to record \"Suspiciousness\" of individuals.\n",
    "# primary data source, except where otherwise indicated: https://www.hrw.org/report/2019/05/01/chinas-algorithms-repression/reverse-engineering-xinjiang-police-mass\n",
    "\n",
    "# assign data of lists.  \n",
    "sus_data = {\n",
    "    'Category': ['People who move into or out of their registered residency (or “hukou”) area', \n",
    "                 'People who move into or out of their registered residency (or “hukou”) area', \n",
    "                 'People who move into or out of their registered residency (or “hukou”) area',\n",
    "                 'People who have “problematic” relationships',\n",
    "                 'People who have “problematic” relationships',\n",
    "                 'People who have “problematic” relationships',\n",
    "                 'People who use an “unusual” amount of electricity', \n",
    "                 'People who have gone “off-grid”', \n",
    "                 'People with mismatched identities', \n",
    "                 '“Problematic” individuals', \n",
    "                 '“Problematic” vehicles', \n",
    "                 '“Matched” persons', \n",
    "                 '“Matched” vehicles'\n",
    "                ], \n",
    "    'Subcategory': ['Internal migrants', \n",
    "                    \"People who have go abroad “for too long” (“overdue” persons)\", \n",
    "                    'People returning  from abroad',\n",
    "                    'People targeted in “Operation 913”',\n",
    "                    'Embassy Alert',\n",
    "                    '\"Four associations\"', \n",
    "                    \"No Subcategory (Category level only)\", \n",
    "                    \"No Subcategory (Category level only)\", \n",
    "                    \"No Subcategory (Category level only)\", \n",
    "                    \"No Subcategory (Category level only)\", \n",
    "                    \"No Subcategory (Category level only)\", \n",
    "                    \"No Subcategory (Category level only)\", \n",
    "                    \"No Subcategory (Category level only)\"                    \n",
    "                   ], \n",
    "    'Further information': [\"the household registration (hukou) system in China, classifying each person as a rural or an urban resident, from source https://pubmed.ncbi.nlm.nih.gov/20734556/\", \n",
    "                            'see p. 32 at https://www.hrw.org/report/2019/05/01/chinas-algorithms-repression/reverse-engineering-xinjiang-police-mass#_Internal_Migrants_1', \n",
    "                            'see p. 33 at https://www.hrw.org/report/2019/05/01/chinas-algorithms-repression/reverse-engineering-xinjiang-police-mass#_People_Who_Go', \n",
    "                            'see p. 35 at https://www.hrw.org/report/2019/05/01/chinas-algorithms-repression/reverse-engineering-xinjiang-police-mass#_People_Targeted_in_1', \n",
    "                            'see p. 37 at https://www.hrw.org/report/2019/05/01/chinas-algorithms-repression/reverse-engineering-xinjiang-police-mass', \n",
    "                            'see p. 37 at https://www.hrw.org/report/2019/05/01/chinas-algorithms-repression/reverse-engineering-xinjiang-police-mass#_Tracking_people%E2%80%99s_relationships', \n",
    "                            'see p. 38 at https://www.hrw.org/report/2019/05/01/chinas-algorithms-repression/reverse-engineering-xinjiang-police-mass#_Tracking_electricity_use', \n",
    "                            'see p. 39 at https://www.hrw.org/report/2019/05/01/chinas-algorithms-repression/reverse-engineering-xinjiang-police-mass#_Tracking_mobile_phones,', \n",
    "                            'see p. 41 at https://www.hrw.org/report/2019/05/01/chinas-algorithms-repression/reverse-engineering-xinjiang-police-mass#_Mismatches_identities', \n",
    "                            'see p. 42 at https://www.hrw.org/report/2019/05/01/chinas-algorithms-repression/reverse-engineering-xinjiang-police-mass#_Problematic_individuals', \n",
    "                            'see p. 44 at https://www.hrw.org/report/2019/05/01/chinas-algorithms-repression/reverse-engineering-xinjiang-police-mass#_Problematic_vehicles', \n",
    "                            'see p. 44 at https://www.hrw.org/report/2019/wangm/Documents/HRW/HRW/Xinjiang/IJOP/Investigation/Matched#_', \n",
    "                            'see p. 48 at https://www.hrw.org/report/2019/wangm/Documents/HRW/HRW/Xinjiang/IJOP/Investigation/Matched#_'                            \n",
    "                           ] \n",
    "}  \n",
    "  \n",
    "# Create DataFrame  \n",
    "sus_df = pd.DataFrame(sus_data)  \n",
    "  \n",
    "# Print the output.  \n",
    "#print(sus_df)  "
   ]
  },
  {
   "cell_type": "code",
   "execution_count": 89,
   "metadata": {},
   "outputs": [
    {
     "data": {
      "text/html": [
       "<div>\n",
       "<style scoped>\n",
       "    .dataframe tbody tr th:only-of-type {\n",
       "        vertical-align: middle;\n",
       "    }\n",
       "\n",
       "    .dataframe tbody tr th {\n",
       "        vertical-align: top;\n",
       "    }\n",
       "\n",
       "    .dataframe thead th {\n",
       "        text-align: right;\n",
       "    }\n",
       "</style>\n",
       "<table border=\"1\" class=\"dataframe\">\n",
       "  <thead>\n",
       "    <tr style=\"text-align: right;\">\n",
       "      <th></th>\n",
       "      <th>Person Type</th>\n",
       "      <th>Direct Religious Association</th>\n",
       "      <th>Associated Religion</th>\n",
       "    </tr>\n",
       "  </thead>\n",
       "  <tbody>\n",
       "    <tr>\n",
       "      <th>0</th>\n",
       "      <td>Released from security-related sentence, and f...</td>\n",
       "      <td>False</td>\n",
       "      <td>Not applicable</td>\n",
       "    </tr>\n",
       "    <tr>\n",
       "      <th>1</th>\n",
       "      <td>Unofficial Imam</td>\n",
       "      <td>True</td>\n",
       "      <td>Islam</td>\n",
       "    </tr>\n",
       "    <tr>\n",
       "      <th>2</th>\n",
       "      <td>Gone on Hajj without state authorization</td>\n",
       "      <td>True</td>\n",
       "      <td>Islam</td>\n",
       "    </tr>\n",
       "    <tr>\n",
       "      <th>3</th>\n",
       "      <td>Follower, or follower of follower, of person a...</td>\n",
       "      <td>True</td>\n",
       "      <td>Islam</td>\n",
       "    </tr>\n",
       "    <tr>\n",
       "      <th>4</th>\n",
       "      <td>Share or receive \"Wahhabism\"</td>\n",
       "      <td>True</td>\n",
       "      <td>Islam</td>\n",
       "    </tr>\n",
       "    <tr>\n",
       "      <th>5</th>\n",
       "      <td>Subjected to \"political education\"</td>\n",
       "      <td>False</td>\n",
       "      <td>Not applicable</td>\n",
       "    </tr>\n",
       "    <tr>\n",
       "      <th>6</th>\n",
       "      <td>Returned from abroad</td>\n",
       "      <td>False</td>\n",
       "      <td>Not applicable</td>\n",
       "    </tr>\n",
       "    <tr>\n",
       "      <th>7</th>\n",
       "      <td>Relative of person who is sentenced to death, ...</td>\n",
       "      <td>False</td>\n",
       "      <td>Not applicable</td>\n",
       "    </tr>\n",
       "    <tr>\n",
       "      <th>8</th>\n",
       "      <td>Classified under categories 3, 4 and 5 by the ...</td>\n",
       "      <td>False</td>\n",
       "      <td>Not applicable</td>\n",
       "    </tr>\n",
       "    <tr>\n",
       "      <th>9</th>\n",
       "      <td>Suddenly returned to home town after being awa...</td>\n",
       "      <td>False</td>\n",
       "      <td>Not applicable</td>\n",
       "    </tr>\n",
       "    <tr>\n",
       "      <th>10</th>\n",
       "      <td>Sentenced to \"control and surveillance\"–a non-...</td>\n",
       "      <td>False</td>\n",
       "      <td>Not applicable</td>\n",
       "    </tr>\n",
       "    <tr>\n",
       "      <th>11</th>\n",
       "      <td>Released after serving a sentence for the July...</td>\n",
       "      <td>False</td>\n",
       "      <td>Not applicable</td>\n",
       "    </tr>\n",
       "    <tr>\n",
       "      <th>12</th>\n",
       "      <td>Used smart phones in the past but has stopped ...</td>\n",
       "      <td>False</td>\n",
       "      <td>Not applicable</td>\n",
       "    </tr>\n",
       "    <tr>\n",
       "      <th>13</th>\n",
       "      <td>Does not socialize with neighbors, seldom uses...</td>\n",
       "      <td>False</td>\n",
       "      <td>Not applicable</td>\n",
       "    </tr>\n",
       "    <tr>\n",
       "      <th>14</th>\n",
       "      <td>Collected money or materials for mosques with ...</td>\n",
       "      <td>True</td>\n",
       "      <td>Islam</td>\n",
       "    </tr>\n",
       "    <tr>\n",
       "      <th>15</th>\n",
       "      <td>Suddenly sells all belongings and moves for no...</td>\n",
       "      <td>False</td>\n",
       "      <td>Not applicable</td>\n",
       "    </tr>\n",
       "    <tr>\n",
       "      <th>16</th>\n",
       "      <td>Household uses an abnormal amount of electricity</td>\n",
       "      <td>False</td>\n",
       "      <td>Not applicable</td>\n",
       "    </tr>\n",
       "    <tr>\n",
       "      <th>17</th>\n",
       "      <td>Violated the family planning policy and has mo...</td>\n",
       "      <td>False</td>\n",
       "      <td>Not applicable</td>\n",
       "    </tr>\n",
       "    <tr>\n",
       "      <th>18</th>\n",
       "      <td>Knows welding and how to make explosives</td>\n",
       "      <td>False</td>\n",
       "      <td>Not applicable</td>\n",
       "    </tr>\n",
       "    <tr>\n",
       "      <th>19</th>\n",
       "      <td>For no apparent reason, unwilling to enjoy pol...</td>\n",
       "      <td>False</td>\n",
       "      <td>Not applicable</td>\n",
       "    </tr>\n",
       "    <tr>\n",
       "      <th>20</th>\n",
       "      <td>Registers [with the authorities] to travel abroad</td>\n",
       "      <td>False</td>\n",
       "      <td>Not applicable</td>\n",
       "    </tr>\n",
       "    <tr>\n",
       "      <th>21</th>\n",
       "      <td>Electricity meter is missing in the data colle...</td>\n",
       "      <td>False</td>\n",
       "      <td>Not applicable</td>\n",
       "    </tr>\n",
       "    <tr>\n",
       "      <th>22</th>\n",
       "      <td>Reported number of persons in household differ...</td>\n",
       "      <td>False</td>\n",
       "      <td>Not applicable</td>\n",
       "    </tr>\n",
       "    <tr>\n",
       "      <th>23</th>\n",
       "      <td>Did not tell government officials conducting h...</td>\n",
       "      <td>False</td>\n",
       "      <td>Not applicable</td>\n",
       "    </tr>\n",
       "    <tr>\n",
       "      <th>24</th>\n",
       "      <td>Gone \"off-grid\" since January 1, 2016 but miss...</td>\n",
       "      <td>False</td>\n",
       "      <td>Not applicable</td>\n",
       "    </tr>\n",
       "    <tr>\n",
       "      <th>25</th>\n",
       "      <td>Flagged by the IJOP as using an abnormal amoun...</td>\n",
       "      <td>False</td>\n",
       "      <td>Not applicable</td>\n",
       "    </tr>\n",
       "    <tr>\n",
       "      <th>26</th>\n",
       "      <td>Moved out of their locale</td>\n",
       "      <td>False</td>\n",
       "      <td>Not applicable</td>\n",
       "    </tr>\n",
       "    <tr>\n",
       "      <th>27</th>\n",
       "      <td>Moved into their locale</td>\n",
       "      <td>False</td>\n",
       "      <td>Not applicable</td>\n",
       "    </tr>\n",
       "    <tr>\n",
       "      <th>28</th>\n",
       "      <td>Person and ID card mismatch</td>\n",
       "      <td>False</td>\n",
       "      <td>Not applicable</td>\n",
       "    </tr>\n",
       "    <tr>\n",
       "      <th>29</th>\n",
       "      <td>Person and phone mismatch</td>\n",
       "      <td>False</td>\n",
       "      <td>Not applicable</td>\n",
       "    </tr>\n",
       "    <tr>\n",
       "      <th>30</th>\n",
       "      <td>Person and vehicle mismatch</td>\n",
       "      <td>False</td>\n",
       "      <td>Not applicable</td>\n",
       "    </tr>\n",
       "    <tr>\n",
       "      <th>31</th>\n",
       "      <td>Connected to the clues of cases</td>\n",
       "      <td>False</td>\n",
       "      <td>Not applicable</td>\n",
       "    </tr>\n",
       "    <tr>\n",
       "      <th>32</th>\n",
       "      <td>Connected to \"those on the run\"</td>\n",
       "      <td>False</td>\n",
       "      <td>Not applicable</td>\n",
       "    </tr>\n",
       "    <tr>\n",
       "      <th>33</th>\n",
       "      <td>Connected to \"those abroad\"</td>\n",
       "      <td>False</td>\n",
       "      <td>Not applicable</td>\n",
       "    </tr>\n",
       "    <tr>\n",
       "      <th>34</th>\n",
       "      <td>Connected to \"those who are being especially w...</td>\n",
       "      <td>False</td>\n",
       "      <td>Not applicable</td>\n",
       "    </tr>\n",
       "    <tr>\n",
       "      <th>35</th>\n",
       "      <td>Other</td>\n",
       "      <td>False</td>\n",
       "      <td>Not applicable</td>\n",
       "    </tr>\n",
       "  </tbody>\n",
       "</table>\n",
       "</div>"
      ],
      "text/plain": [
       "                                          Person Type  \\\n",
       "0   Released from security-related sentence, and f...   \n",
       "1                                     Unofficial Imam   \n",
       "2            Gone on Hajj without state authorization   \n",
       "3   Follower, or follower of follower, of person a...   \n",
       "4                        Share or receive \"Wahhabism\"   \n",
       "5                  Subjected to \"political education\"   \n",
       "6                                Returned from abroad   \n",
       "7   Relative of person who is sentenced to death, ...   \n",
       "8   Classified under categories 3, 4 and 5 by the ...   \n",
       "9   Suddenly returned to home town after being awa...   \n",
       "10  Sentenced to \"control and surveillance\"–a non-...   \n",
       "11  Released after serving a sentence for the July...   \n",
       "12  Used smart phones in the past but has stopped ...   \n",
       "13  Does not socialize with neighbors, seldom uses...   \n",
       "14  Collected money or materials for mosques with ...   \n",
       "15  Suddenly sells all belongings and moves for no...   \n",
       "16   Household uses an abnormal amount of electricity   \n",
       "17  Violated the family planning policy and has mo...   \n",
       "18           Knows welding and how to make explosives   \n",
       "19  For no apparent reason, unwilling to enjoy pol...   \n",
       "20  Registers [with the authorities] to travel abroad   \n",
       "21  Electricity meter is missing in the data colle...   \n",
       "22  Reported number of persons in household differ...   \n",
       "23  Did not tell government officials conducting h...   \n",
       "24  Gone \"off-grid\" since January 1, 2016 but miss...   \n",
       "25  Flagged by the IJOP as using an abnormal amoun...   \n",
       "26                          Moved out of their locale   \n",
       "27                            Moved into their locale   \n",
       "28                        Person and ID card mismatch   \n",
       "29                          Person and phone mismatch   \n",
       "30                        Person and vehicle mismatch   \n",
       "31                    Connected to the clues of cases   \n",
       "32                    Connected to \"those on the run\"   \n",
       "33                        Connected to \"those abroad\"   \n",
       "34  Connected to \"those who are being especially w...   \n",
       "35                                              Other   \n",
       "\n",
       "    Direct Religious Association Associated Religion  \n",
       "0                          False      Not applicable  \n",
       "1                           True               Islam  \n",
       "2                           True               Islam  \n",
       "3                           True               Islam  \n",
       "4                           True               Islam  \n",
       "5                          False      Not applicable  \n",
       "6                          False      Not applicable  \n",
       "7                          False      Not applicable  \n",
       "8                          False      Not applicable  \n",
       "9                          False      Not applicable  \n",
       "10                         False      Not applicable  \n",
       "11                         False      Not applicable  \n",
       "12                         False      Not applicable  \n",
       "13                         False      Not applicable  \n",
       "14                          True               Islam  \n",
       "15                         False      Not applicable  \n",
       "16                         False      Not applicable  \n",
       "17                         False      Not applicable  \n",
       "18                         False      Not applicable  \n",
       "19                         False      Not applicable  \n",
       "20                         False      Not applicable  \n",
       "21                         False      Not applicable  \n",
       "22                         False      Not applicable  \n",
       "23                         False      Not applicable  \n",
       "24                         False      Not applicable  \n",
       "25                         False      Not applicable  \n",
       "26                         False      Not applicable  \n",
       "27                         False      Not applicable  \n",
       "28                         False      Not applicable  \n",
       "29                         False      Not applicable  \n",
       "30                         False      Not applicable  \n",
       "31                         False      Not applicable  \n",
       "32                         False      Not applicable  \n",
       "33                         False      Not applicable  \n",
       "34                         False      Not applicable  \n",
       "35                         False      Not applicable  "
      ]
     },
     "execution_count": 89,
     "metadata": {},
     "output_type": "execute_result"
    }
   ],
   "source": [
    "# IJOP app collection data includes 36 \"Person Types\" which authorities are paying special attention to are listed in  image,\n",
    "# at https://www.hrw.org/sites/default/files/multimedia_images_2019/201904asia_china_graphic.jpg\n",
    "\n",
    "# Build dataframe of 36 \"Person Types\" authorities target for IJOP App data collection\n",
    "# from the documentation of the questions in the reengineered mass surveillance app used by Xinjiang police to record \"Suspiciousness\" of individuals.\n",
    "# primary data source, except where otherwise indicated: https://www.hrw.org/report/2019/05/01/chinas-algorithms-repression/reverse-engineering-xinjiang-police-mass\n",
    "# assign data of lists.  \n",
    "persontypes_data = {\n",
    "    'Person Type': ['Released from security-related sentence, and family', \n",
    "                    'Unofficial Imam', \n",
    "                    'Gone on Hajj without state authorization', \n",
    "                    'Follower, or follower of follower, of person associated with \"the Six Lines\" (six religious scholars and intellectuals authorities consider particularly threatening in Xinjiang)', \n",
    "                    'Share or receive \"Wahhabism\"', \n",
    "                    'Subjected to \"political education\"',\n",
    "                    'Returned from abroad', \n",
    "                    'Relative of person who is sentenced to death, was shot to death, or blew themselves up', \n",
    "                    'Classified under categories 3, 4 and 5 by the National Security Unit of the Ministry of Public Safety', \n",
    "                    'Suddenly returned to home town after being away for a long time', \n",
    "                    'Sentenced to \"control and surveillance\"–a non-custodial sentence in which police supervise a person for 3 to 24 months; or \"juyi\"–a sentence of 1 to 6 months served in police detention centers–during the Strike Hard Campaign, but sentence instead has been converted to \"community corrections\"', \n",
    "                    'Released after serving a sentence for the July 2009 Urumqi riots, and family', \n",
    "                    'Used smart phones in the past but has stopped altogether, or using only analog phones', \n",
    "                    'Does not socialize with neighbors, seldom uses front door, and acts suspiciously', \n",
    "                    'Collected money or materials for mosques with enthusiasm', \n",
    "                    'Suddenly sells all belongings and moves for no apparent reason, especially with their entire family', \n",
    "                    'Household uses an abnormal amount of electricity', \n",
    "                    'Violated the family planning policy and has more children than allowed', \n",
    "                    'Knows welding and how to make explosives', \n",
    "                    'For no apparent reason, unwilling to enjoy policies that benefit the people or fails to participate in activities organized by the local government or the Party', \n",
    "                    \"Registers [with the authorities] to travel abroad\", \n",
    "                    'Electricity meter is missing in the data collected by government officials during home-visit', \n",
    "                    'Reported number of persons in household differs from the actual number of persons found at home when government officials visit', \n",
    "                    'Did not tell government officials conducting home visit of already having a passport', \n",
    "                    'Gone \"off-grid\" since January 1, 2016 but missing trajectory was not registered with government officials conducting home visit', \n",
    "                    'Flagged by the IJOP as using an abnormal amount of electricity', \n",
    "                    'Moved out of their locale', \n",
    "                    'Moved into their locale', \n",
    "                    'Person and ID card mismatch', \n",
    "                    'Person and phone mismatch', \n",
    "                    'Person and vehicle mismatch', \n",
    "                    'Connected to the clues of cases', \n",
    "                    'Connected to \"those on the run\"',\n",
    "                    'Connected to \"those abroad\"', \n",
    "                    'Connected to \"those who are being especially watched\"', \n",
    "                    'Other'\n",
    "                ], \n",
    "    'Direct Religious Association': [False, \n",
    "                                     True, \n",
    "                                     True, \n",
    "                                     True, \n",
    "                                     True, \n",
    "                                     False, \n",
    "                                     False, \n",
    "                                     False, \n",
    "                                     False, \n",
    "                                     False, \n",
    "                                     False, \n",
    "                                     False, \n",
    "                                     False, \n",
    "                                     False, \n",
    "                                     True, \n",
    "                                     False, \n",
    "                                     False, \n",
    "                                     False, \n",
    "                                     False, \n",
    "                                     False, \n",
    "                                     False, \n",
    "                                     False, \n",
    "                                     False, \n",
    "                                     False, \n",
    "                                     False, \n",
    "                                     False, \n",
    "                                     False, \n",
    "                                     False, \n",
    "                                     False, \n",
    "                                     False, \n",
    "                                     False, \n",
    "                                     False, \n",
    "                                     False, \n",
    "                                     False, \n",
    "                                     False, \n",
    "                                     False                      \n",
    "                   ], \n",
    "    'Associated Religion': ['Not applicable', \n",
    "                            'Islam', \n",
    "                            'Islam', \n",
    "                            'Islam', \n",
    "                            'Islam', \n",
    "                            'Not applicable', \n",
    "                            'Not applicable', \n",
    "                            'Not applicable', \n",
    "                            'Not applicable', \n",
    "                            'Not applicable', \n",
    "                            'Not applicable', \n",
    "                            'Not applicable', \n",
    "                            'Not applicable', \n",
    "                            'Not applicable', \n",
    "                            'Islam', \n",
    "                            'Not applicable', \n",
    "                            'Not applicable', \n",
    "                            'Not applicable', \n",
    "                            'Not applicable', \n",
    "                            'Not applicable', \n",
    "                            'Not applicable', \n",
    "                            'Not applicable', \n",
    "                            'Not applicable', \n",
    "                            'Not applicable', \n",
    "                            'Not applicable', \n",
    "                            'Not applicable', \n",
    "                            'Not applicable', \n",
    "                            'Not applicable', \n",
    "                            'Not applicable', \n",
    "                            'Not applicable', \n",
    "                            'Not applicable', \n",
    "                            'Not applicable', \n",
    "                            'Not applicable', \n",
    "                            'Not applicable', \n",
    "                            'Not applicable', \n",
    "                            'Not applicable'\n",
    "                           ]\n",
    "}  \n",
    "  \n",
    "# Create DataFrame  \n",
    "persontypes_df = pd.DataFrame(persontypes_data)  \n",
    "  \n",
    "# Print/ view the output.  \n",
    "persontypes_df"
   ]
  },
  {
   "cell_type": "code",
   "execution_count": 90,
   "metadata": {
    "scrolled": false
   },
   "outputs": [
    {
     "data": {
      "application/vnd.plotly.v1+json": {
       "config": {
        "plotlyServerURL": "https://plot.ly"
       },
       "data": [
        {
         "alignmentgroup": "True",
         "bingroup": "x",
         "histfunc": "count",
         "hovertemplate": "Associated Religion=Islam<br>count=%{y}<extra></extra>",
         "legendgroup": "Islam",
         "marker": {
          "color": [
           "#0099FF"
          ],
          "opacity": 1
         },
         "name": "Islam",
         "offsetgroup": "Islam",
         "orientation": "v",
         "showlegend": true,
         "type": "histogram",
         "x": [
          true,
          true,
          true,
          true,
          true
         ],
         "xaxis": "x",
         "y": [
          "Islam",
          "Islam",
          "Islam",
          "Islam",
          "Islam"
         ],
         "yaxis": "y"
        },
        {
         "alignmentgroup": "True",
         "bingroup": "x",
         "histfunc": "count",
         "hovertemplate": "Associated Religion=Not applicable<br>count=%{y}<extra></extra>",
         "legendgroup": "Not applicable",
         "marker": {
          "color": [
           "#DADEDA"
          ],
          "opacity": 1
         },
         "name": "Not applicable",
         "offsetgroup": "Not applicable",
         "orientation": "v",
         "showlegend": true,
         "type": "histogram",
         "x": [
          false,
          false,
          false,
          false,
          false,
          false,
          false,
          false,
          false,
          false,
          false,
          false,
          false,
          false,
          false,
          false,
          false,
          false,
          false,
          false,
          false,
          false,
          false,
          false,
          false,
          false,
          false,
          false,
          false,
          false,
          false
         ],
         "xaxis": "x",
         "y": [
          "Not applicable",
          "Not applicable",
          "Not applicable",
          "Not applicable",
          "Not applicable",
          "Not applicable",
          "Not applicable",
          "Not applicable",
          "Not applicable",
          "Not applicable",
          "Not applicable",
          "Not applicable",
          "Not applicable",
          "Not applicable",
          "Not applicable",
          "Not applicable",
          "Not applicable",
          "Not applicable",
          "Not applicable",
          "Not applicable",
          "Not applicable",
          "Not applicable",
          "Not applicable",
          "Not applicable",
          "Not applicable",
          "Not applicable",
          "Not applicable",
          "Not applicable",
          "Not applicable",
          "Not applicable",
          "Not applicable"
         ],
         "yaxis": "y"
        }
       ],
       "layout": {
        "barmode": "overlay",
        "font": {
         "color": "#DADEDA",
         "size": 14
        },
        "legend": {
         "title": {
          "text": "Associated Religion"
         },
         "tracegroupgap": 0
        },
        "margin": {
         "pad": 0
        },
        "paper_bgcolor": "#000000",
        "plot_bgcolor": "hsla(357.4,86.1%,52.2%,1)",
        "template": {
         "data": {
          "bar": [
           {
            "error_x": {
             "color": "#2a3f5f"
            },
            "error_y": {
             "color": "#2a3f5f"
            },
            "marker": {
             "line": {
              "color": "#E5ECF6",
              "width": 0.5
             }
            },
            "type": "bar"
           }
          ],
          "barpolar": [
           {
            "marker": {
             "line": {
              "color": "#E5ECF6",
              "width": 0.5
             }
            },
            "type": "barpolar"
           }
          ],
          "carpet": [
           {
            "aaxis": {
             "endlinecolor": "#2a3f5f",
             "gridcolor": "white",
             "linecolor": "white",
             "minorgridcolor": "white",
             "startlinecolor": "#2a3f5f"
            },
            "baxis": {
             "endlinecolor": "#2a3f5f",
             "gridcolor": "white",
             "linecolor": "white",
             "minorgridcolor": "white",
             "startlinecolor": "#2a3f5f"
            },
            "type": "carpet"
           }
          ],
          "choropleth": [
           {
            "colorbar": {
             "outlinewidth": 0,
             "ticks": ""
            },
            "type": "choropleth"
           }
          ],
          "contour": [
           {
            "colorbar": {
             "outlinewidth": 0,
             "ticks": ""
            },
            "colorscale": [
             [
              0,
              "#0d0887"
             ],
             [
              0.1111111111111111,
              "#46039f"
             ],
             [
              0.2222222222222222,
              "#7201a8"
             ],
             [
              0.3333333333333333,
              "#9c179e"
             ],
             [
              0.4444444444444444,
              "#bd3786"
             ],
             [
              0.5555555555555556,
              "#d8576b"
             ],
             [
              0.6666666666666666,
              "#ed7953"
             ],
             [
              0.7777777777777778,
              "#fb9f3a"
             ],
             [
              0.8888888888888888,
              "#fdca26"
             ],
             [
              1,
              "#f0f921"
             ]
            ],
            "type": "contour"
           }
          ],
          "contourcarpet": [
           {
            "colorbar": {
             "outlinewidth": 0,
             "ticks": ""
            },
            "type": "contourcarpet"
           }
          ],
          "heatmap": [
           {
            "colorbar": {
             "outlinewidth": 0,
             "ticks": ""
            },
            "colorscale": [
             [
              0,
              "#0d0887"
             ],
             [
              0.1111111111111111,
              "#46039f"
             ],
             [
              0.2222222222222222,
              "#7201a8"
             ],
             [
              0.3333333333333333,
              "#9c179e"
             ],
             [
              0.4444444444444444,
              "#bd3786"
             ],
             [
              0.5555555555555556,
              "#d8576b"
             ],
             [
              0.6666666666666666,
              "#ed7953"
             ],
             [
              0.7777777777777778,
              "#fb9f3a"
             ],
             [
              0.8888888888888888,
              "#fdca26"
             ],
             [
              1,
              "#f0f921"
             ]
            ],
            "type": "heatmap"
           }
          ],
          "heatmapgl": [
           {
            "colorbar": {
             "outlinewidth": 0,
             "ticks": ""
            },
            "colorscale": [
             [
              0,
              "#0d0887"
             ],
             [
              0.1111111111111111,
              "#46039f"
             ],
             [
              0.2222222222222222,
              "#7201a8"
             ],
             [
              0.3333333333333333,
              "#9c179e"
             ],
             [
              0.4444444444444444,
              "#bd3786"
             ],
             [
              0.5555555555555556,
              "#d8576b"
             ],
             [
              0.6666666666666666,
              "#ed7953"
             ],
             [
              0.7777777777777778,
              "#fb9f3a"
             ],
             [
              0.8888888888888888,
              "#fdca26"
             ],
             [
              1,
              "#f0f921"
             ]
            ],
            "type": "heatmapgl"
           }
          ],
          "histogram": [
           {
            "marker": {
             "colorbar": {
              "outlinewidth": 0,
              "ticks": ""
             }
            },
            "type": "histogram"
           }
          ],
          "histogram2d": [
           {
            "colorbar": {
             "outlinewidth": 0,
             "ticks": ""
            },
            "colorscale": [
             [
              0,
              "#0d0887"
             ],
             [
              0.1111111111111111,
              "#46039f"
             ],
             [
              0.2222222222222222,
              "#7201a8"
             ],
             [
              0.3333333333333333,
              "#9c179e"
             ],
             [
              0.4444444444444444,
              "#bd3786"
             ],
             [
              0.5555555555555556,
              "#d8576b"
             ],
             [
              0.6666666666666666,
              "#ed7953"
             ],
             [
              0.7777777777777778,
              "#fb9f3a"
             ],
             [
              0.8888888888888888,
              "#fdca26"
             ],
             [
              1,
              "#f0f921"
             ]
            ],
            "type": "histogram2d"
           }
          ],
          "histogram2dcontour": [
           {
            "colorbar": {
             "outlinewidth": 0,
             "ticks": ""
            },
            "colorscale": [
             [
              0,
              "#0d0887"
             ],
             [
              0.1111111111111111,
              "#46039f"
             ],
             [
              0.2222222222222222,
              "#7201a8"
             ],
             [
              0.3333333333333333,
              "#9c179e"
             ],
             [
              0.4444444444444444,
              "#bd3786"
             ],
             [
              0.5555555555555556,
              "#d8576b"
             ],
             [
              0.6666666666666666,
              "#ed7953"
             ],
             [
              0.7777777777777778,
              "#fb9f3a"
             ],
             [
              0.8888888888888888,
              "#fdca26"
             ],
             [
              1,
              "#f0f921"
             ]
            ],
            "type": "histogram2dcontour"
           }
          ],
          "mesh3d": [
           {
            "colorbar": {
             "outlinewidth": 0,
             "ticks": ""
            },
            "type": "mesh3d"
           }
          ],
          "parcoords": [
           {
            "line": {
             "colorbar": {
              "outlinewidth": 0,
              "ticks": ""
             }
            },
            "type": "parcoords"
           }
          ],
          "pie": [
           {
            "automargin": true,
            "type": "pie"
           }
          ],
          "scatter": [
           {
            "marker": {
             "colorbar": {
              "outlinewidth": 0,
              "ticks": ""
             }
            },
            "type": "scatter"
           }
          ],
          "scatter3d": [
           {
            "line": {
             "colorbar": {
              "outlinewidth": 0,
              "ticks": ""
             }
            },
            "marker": {
             "colorbar": {
              "outlinewidth": 0,
              "ticks": ""
             }
            },
            "type": "scatter3d"
           }
          ],
          "scattercarpet": [
           {
            "marker": {
             "colorbar": {
              "outlinewidth": 0,
              "ticks": ""
             }
            },
            "type": "scattercarpet"
           }
          ],
          "scattergeo": [
           {
            "marker": {
             "colorbar": {
              "outlinewidth": 0,
              "ticks": ""
             }
            },
            "type": "scattergeo"
           }
          ],
          "scattergl": [
           {
            "marker": {
             "colorbar": {
              "outlinewidth": 0,
              "ticks": ""
             }
            },
            "type": "scattergl"
           }
          ],
          "scattermapbox": [
           {
            "marker": {
             "colorbar": {
              "outlinewidth": 0,
              "ticks": ""
             }
            },
            "type": "scattermapbox"
           }
          ],
          "scatterpolar": [
           {
            "marker": {
             "colorbar": {
              "outlinewidth": 0,
              "ticks": ""
             }
            },
            "type": "scatterpolar"
           }
          ],
          "scatterpolargl": [
           {
            "marker": {
             "colorbar": {
              "outlinewidth": 0,
              "ticks": ""
             }
            },
            "type": "scatterpolargl"
           }
          ],
          "scatterternary": [
           {
            "marker": {
             "colorbar": {
              "outlinewidth": 0,
              "ticks": ""
             }
            },
            "type": "scatterternary"
           }
          ],
          "surface": [
           {
            "colorbar": {
             "outlinewidth": 0,
             "ticks": ""
            },
            "colorscale": [
             [
              0,
              "#0d0887"
             ],
             [
              0.1111111111111111,
              "#46039f"
             ],
             [
              0.2222222222222222,
              "#7201a8"
             ],
             [
              0.3333333333333333,
              "#9c179e"
             ],
             [
              0.4444444444444444,
              "#bd3786"
             ],
             [
              0.5555555555555556,
              "#d8576b"
             ],
             [
              0.6666666666666666,
              "#ed7953"
             ],
             [
              0.7777777777777778,
              "#fb9f3a"
             ],
             [
              0.8888888888888888,
              "#fdca26"
             ],
             [
              1,
              "#f0f921"
             ]
            ],
            "type": "surface"
           }
          ],
          "table": [
           {
            "cells": {
             "fill": {
              "color": "#EBF0F8"
             },
             "line": {
              "color": "white"
             }
            },
            "header": {
             "fill": {
              "color": "#C8D4E3"
             },
             "line": {
              "color": "white"
             }
            },
            "type": "table"
           }
          ]
         },
         "layout": {
          "annotationdefaults": {
           "arrowcolor": "#2a3f5f",
           "arrowhead": 0,
           "arrowwidth": 1
          },
          "autotypenumbers": "strict",
          "coloraxis": {
           "colorbar": {
            "outlinewidth": 0,
            "ticks": ""
           }
          },
          "colorscale": {
           "diverging": [
            [
             0,
             "#8e0152"
            ],
            [
             0.1,
             "#c51b7d"
            ],
            [
             0.2,
             "#de77ae"
            ],
            [
             0.3,
             "#f1b6da"
            ],
            [
             0.4,
             "#fde0ef"
            ],
            [
             0.5,
             "#f7f7f7"
            ],
            [
             0.6,
             "#e6f5d0"
            ],
            [
             0.7,
             "#b8e186"
            ],
            [
             0.8,
             "#7fbc41"
            ],
            [
             0.9,
             "#4d9221"
            ],
            [
             1,
             "#276419"
            ]
           ],
           "sequential": [
            [
             0,
             "#0d0887"
            ],
            [
             0.1111111111111111,
             "#46039f"
            ],
            [
             0.2222222222222222,
             "#7201a8"
            ],
            [
             0.3333333333333333,
             "#9c179e"
            ],
            [
             0.4444444444444444,
             "#bd3786"
            ],
            [
             0.5555555555555556,
             "#d8576b"
            ],
            [
             0.6666666666666666,
             "#ed7953"
            ],
            [
             0.7777777777777778,
             "#fb9f3a"
            ],
            [
             0.8888888888888888,
             "#fdca26"
            ],
            [
             1,
             "#f0f921"
            ]
           ],
           "sequentialminus": [
            [
             0,
             "#0d0887"
            ],
            [
             0.1111111111111111,
             "#46039f"
            ],
            [
             0.2222222222222222,
             "#7201a8"
            ],
            [
             0.3333333333333333,
             "#9c179e"
            ],
            [
             0.4444444444444444,
             "#bd3786"
            ],
            [
             0.5555555555555556,
             "#d8576b"
            ],
            [
             0.6666666666666666,
             "#ed7953"
            ],
            [
             0.7777777777777778,
             "#fb9f3a"
            ],
            [
             0.8888888888888888,
             "#fdca26"
            ],
            [
             1,
             "#f0f921"
            ]
           ]
          },
          "colorway": [
           "#636efa",
           "#EF553B",
           "#00cc96",
           "#ab63fa",
           "#FFA15A",
           "#19d3f3",
           "#FF6692",
           "#B6E880",
           "#FF97FF",
           "#FECB52"
          ],
          "font": {
           "color": "#2a3f5f"
          },
          "geo": {
           "bgcolor": "white",
           "lakecolor": "white",
           "landcolor": "#E5ECF6",
           "showlakes": true,
           "showland": true,
           "subunitcolor": "white"
          },
          "hoverlabel": {
           "align": "left"
          },
          "hovermode": "closest",
          "mapbox": {
           "style": "light"
          },
          "paper_bgcolor": "white",
          "plot_bgcolor": "#E5ECF6",
          "polar": {
           "angularaxis": {
            "gridcolor": "white",
            "linecolor": "white",
            "ticks": ""
           },
           "bgcolor": "#E5ECF6",
           "radialaxis": {
            "gridcolor": "white",
            "linecolor": "white",
            "ticks": ""
           }
          },
          "scene": {
           "xaxis": {
            "backgroundcolor": "#E5ECF6",
            "gridcolor": "white",
            "gridwidth": 2,
            "linecolor": "white",
            "showbackground": true,
            "ticks": "",
            "zerolinecolor": "white"
           },
           "yaxis": {
            "backgroundcolor": "#E5ECF6",
            "gridcolor": "white",
            "gridwidth": 2,
            "linecolor": "white",
            "showbackground": true,
            "ticks": "",
            "zerolinecolor": "white"
           },
           "zaxis": {
            "backgroundcolor": "#E5ECF6",
            "gridcolor": "white",
            "gridwidth": 2,
            "linecolor": "white",
            "showbackground": true,
            "ticks": "",
            "zerolinecolor": "white"
           }
          },
          "shapedefaults": {
           "line": {
            "color": "#2a3f5f"
           }
          },
          "ternary": {
           "aaxis": {
            "gridcolor": "white",
            "linecolor": "white",
            "ticks": ""
           },
           "baxis": {
            "gridcolor": "white",
            "linecolor": "white",
            "ticks": ""
           },
           "bgcolor": "#E5ECF6",
           "caxis": {
            "gridcolor": "white",
            "linecolor": "white",
            "ticks": ""
           }
          },
          "title": {
           "x": 0.05
          },
          "xaxis": {
           "automargin": true,
           "gridcolor": "white",
           "linecolor": "white",
           "ticks": "",
           "title": {
            "standoff": 15
           },
           "zerolinecolor": "white",
           "zerolinewidth": 2
          },
          "yaxis": {
           "automargin": true,
           "gridcolor": "white",
           "linecolor": "white",
           "ticks": "",
           "title": {
            "standoff": 15
           },
           "zerolinecolor": "white",
           "zerolinewidth": 2
          }
         }
        },
        "title": {
         "text": "Direct religious association of IJOP App \"Person Types\" data collection"
        },
        "xaxis": {
         "anchor": "y",
         "categoryarray": [
          true,
          false
         ],
         "categoryorder": "array",
         "domain": [
          0,
          1
         ],
         "title": {
          "text": "Do \"Person Type(s) directly record religious association of an individual?"
         }
        },
        "yaxis": {
         "anchor": "x",
         "categoryarray": [
          "Not applicable",
          "Islam"
         ],
         "categoryorder": "array",
         "domain": [
          0,
          1
         ],
         "title": {
          "text": "count"
         }
        }
       }
      },
      "text/html": [
       "<div>                            <div id=\"d1dcd399-66a0-44e0-b7e2-0626231c3a09\" class=\"plotly-graph-div\" style=\"height:525px; width:100%;\"></div>            <script type=\"text/javascript\">                require([\"plotly\"], function(Plotly) {                    window.PLOTLYENV=window.PLOTLYENV || {};                                    if (document.getElementById(\"d1dcd399-66a0-44e0-b7e2-0626231c3a09\")) {                    Plotly.newPlot(                        \"d1dcd399-66a0-44e0-b7e2-0626231c3a09\",                        [{\"alignmentgroup\": \"True\", \"bingroup\": \"x\", \"histfunc\": \"count\", \"hovertemplate\": \"Associated Religion=Islam<br>count=%{y}<extra></extra>\", \"legendgroup\": \"Islam\", \"marker\": {\"color\": [\"#0099FF\"], \"opacity\": 1}, \"name\": \"Islam\", \"offsetgroup\": \"Islam\", \"orientation\": \"v\", \"showlegend\": true, \"type\": \"histogram\", \"x\": [true, true, true, true, true], \"xaxis\": \"x\", \"y\": [\"Islam\", \"Islam\", \"Islam\", \"Islam\", \"Islam\"], \"yaxis\": \"y\"}, {\"alignmentgroup\": \"True\", \"bingroup\": \"x\", \"histfunc\": \"count\", \"hovertemplate\": \"Associated Religion=Not applicable<br>count=%{y}<extra></extra>\", \"legendgroup\": \"Not applicable\", \"marker\": {\"color\": [\"#DADEDA\"], \"opacity\": 1}, \"name\": \"Not applicable\", \"offsetgroup\": \"Not applicable\", \"orientation\": \"v\", \"showlegend\": true, \"type\": \"histogram\", \"x\": [false, false, false, false, false, false, false, false, false, false, false, false, false, false, false, false, false, false, false, false, false, false, false, false, false, false, false, false, false, false, false], \"xaxis\": \"x\", \"y\": [\"Not applicable\", \"Not applicable\", \"Not applicable\", \"Not applicable\", \"Not applicable\", \"Not applicable\", \"Not applicable\", \"Not applicable\", \"Not applicable\", \"Not applicable\", \"Not applicable\", \"Not applicable\", \"Not applicable\", \"Not applicable\", \"Not applicable\", \"Not applicable\", \"Not applicable\", \"Not applicable\", \"Not applicable\", \"Not applicable\", \"Not applicable\", \"Not applicable\", \"Not applicable\", \"Not applicable\", \"Not applicable\", \"Not applicable\", \"Not applicable\", \"Not applicable\", \"Not applicable\", \"Not applicable\", \"Not applicable\"], \"yaxis\": \"y\"}],                        {\"barmode\": \"overlay\", \"font\": {\"color\": \"#DADEDA\", \"size\": 14}, \"legend\": {\"title\": {\"text\": \"Associated Religion\"}, \"tracegroupgap\": 0}, \"margin\": {\"pad\": 0}, \"paper_bgcolor\": \"#000000\", \"plot_bgcolor\": \"hsla(357.4,86.1%,52.2%,1)\", \"template\": {\"data\": {\"bar\": [{\"error_x\": {\"color\": \"#2a3f5f\"}, \"error_y\": {\"color\": \"#2a3f5f\"}, \"marker\": {\"line\": {\"color\": \"#E5ECF6\", \"width\": 0.5}}, \"type\": \"bar\"}], \"barpolar\": [{\"marker\": {\"line\": {\"color\": \"#E5ECF6\", \"width\": 0.5}}, \"type\": \"barpolar\"}], \"carpet\": [{\"aaxis\": {\"endlinecolor\": \"#2a3f5f\", \"gridcolor\": \"white\", \"linecolor\": \"white\", \"minorgridcolor\": \"white\", \"startlinecolor\": \"#2a3f5f\"}, \"baxis\": {\"endlinecolor\": \"#2a3f5f\", \"gridcolor\": \"white\", \"linecolor\": \"white\", \"minorgridcolor\": \"white\", \"startlinecolor\": \"#2a3f5f\"}, \"type\": \"carpet\"}], \"choropleth\": [{\"colorbar\": {\"outlinewidth\": 0, \"ticks\": \"\"}, \"type\": \"choropleth\"}], \"contour\": [{\"colorbar\": {\"outlinewidth\": 0, \"ticks\": \"\"}, \"colorscale\": [[0.0, \"#0d0887\"], [0.1111111111111111, \"#46039f\"], [0.2222222222222222, \"#7201a8\"], [0.3333333333333333, \"#9c179e\"], [0.4444444444444444, \"#bd3786\"], [0.5555555555555556, \"#d8576b\"], [0.6666666666666666, \"#ed7953\"], [0.7777777777777778, \"#fb9f3a\"], [0.8888888888888888, \"#fdca26\"], [1.0, \"#f0f921\"]], \"type\": \"contour\"}], \"contourcarpet\": [{\"colorbar\": {\"outlinewidth\": 0, \"ticks\": \"\"}, \"type\": \"contourcarpet\"}], \"heatmap\": [{\"colorbar\": {\"outlinewidth\": 0, \"ticks\": \"\"}, \"colorscale\": [[0.0, \"#0d0887\"], [0.1111111111111111, \"#46039f\"], [0.2222222222222222, \"#7201a8\"], [0.3333333333333333, \"#9c179e\"], [0.4444444444444444, \"#bd3786\"], [0.5555555555555556, \"#d8576b\"], [0.6666666666666666, \"#ed7953\"], [0.7777777777777778, \"#fb9f3a\"], [0.8888888888888888, \"#fdca26\"], [1.0, \"#f0f921\"]], \"type\": \"heatmap\"}], \"heatmapgl\": [{\"colorbar\": {\"outlinewidth\": 0, \"ticks\": \"\"}, \"colorscale\": [[0.0, \"#0d0887\"], [0.1111111111111111, \"#46039f\"], [0.2222222222222222, \"#7201a8\"], [0.3333333333333333, \"#9c179e\"], [0.4444444444444444, \"#bd3786\"], [0.5555555555555556, \"#d8576b\"], [0.6666666666666666, \"#ed7953\"], [0.7777777777777778, \"#fb9f3a\"], [0.8888888888888888, \"#fdca26\"], [1.0, \"#f0f921\"]], \"type\": \"heatmapgl\"}], \"histogram\": [{\"marker\": {\"colorbar\": {\"outlinewidth\": 0, \"ticks\": \"\"}}, \"type\": \"histogram\"}], \"histogram2d\": [{\"colorbar\": {\"outlinewidth\": 0, \"ticks\": \"\"}, \"colorscale\": [[0.0, \"#0d0887\"], [0.1111111111111111, \"#46039f\"], [0.2222222222222222, \"#7201a8\"], [0.3333333333333333, \"#9c179e\"], [0.4444444444444444, \"#bd3786\"], [0.5555555555555556, \"#d8576b\"], [0.6666666666666666, \"#ed7953\"], [0.7777777777777778, \"#fb9f3a\"], [0.8888888888888888, \"#fdca26\"], [1.0, \"#f0f921\"]], \"type\": \"histogram2d\"}], \"histogram2dcontour\": [{\"colorbar\": {\"outlinewidth\": 0, \"ticks\": \"\"}, \"colorscale\": [[0.0, \"#0d0887\"], [0.1111111111111111, \"#46039f\"], [0.2222222222222222, \"#7201a8\"], [0.3333333333333333, \"#9c179e\"], [0.4444444444444444, \"#bd3786\"], [0.5555555555555556, \"#d8576b\"], [0.6666666666666666, \"#ed7953\"], [0.7777777777777778, \"#fb9f3a\"], [0.8888888888888888, \"#fdca26\"], [1.0, \"#f0f921\"]], \"type\": \"histogram2dcontour\"}], \"mesh3d\": [{\"colorbar\": {\"outlinewidth\": 0, \"ticks\": \"\"}, \"type\": \"mesh3d\"}], \"parcoords\": [{\"line\": {\"colorbar\": {\"outlinewidth\": 0, \"ticks\": \"\"}}, \"type\": \"parcoords\"}], \"pie\": [{\"automargin\": true, \"type\": \"pie\"}], \"scatter\": [{\"marker\": {\"colorbar\": {\"outlinewidth\": 0, \"ticks\": \"\"}}, \"type\": \"scatter\"}], \"scatter3d\": [{\"line\": {\"colorbar\": {\"outlinewidth\": 0, \"ticks\": \"\"}}, \"marker\": {\"colorbar\": {\"outlinewidth\": 0, \"ticks\": \"\"}}, \"type\": \"scatter3d\"}], \"scattercarpet\": [{\"marker\": {\"colorbar\": {\"outlinewidth\": 0, \"ticks\": \"\"}}, \"type\": \"scattercarpet\"}], \"scattergeo\": [{\"marker\": {\"colorbar\": {\"outlinewidth\": 0, \"ticks\": \"\"}}, \"type\": \"scattergeo\"}], \"scattergl\": [{\"marker\": {\"colorbar\": {\"outlinewidth\": 0, \"ticks\": \"\"}}, \"type\": \"scattergl\"}], \"scattermapbox\": [{\"marker\": {\"colorbar\": {\"outlinewidth\": 0, \"ticks\": \"\"}}, \"type\": \"scattermapbox\"}], \"scatterpolar\": [{\"marker\": {\"colorbar\": {\"outlinewidth\": 0, \"ticks\": \"\"}}, \"type\": \"scatterpolar\"}], \"scatterpolargl\": [{\"marker\": {\"colorbar\": {\"outlinewidth\": 0, \"ticks\": \"\"}}, \"type\": \"scatterpolargl\"}], \"scatterternary\": [{\"marker\": {\"colorbar\": {\"outlinewidth\": 0, \"ticks\": \"\"}}, \"type\": \"scatterternary\"}], \"surface\": [{\"colorbar\": {\"outlinewidth\": 0, \"ticks\": \"\"}, \"colorscale\": [[0.0, \"#0d0887\"], [0.1111111111111111, \"#46039f\"], [0.2222222222222222, \"#7201a8\"], [0.3333333333333333, \"#9c179e\"], [0.4444444444444444, \"#bd3786\"], [0.5555555555555556, \"#d8576b\"], [0.6666666666666666, \"#ed7953\"], [0.7777777777777778, \"#fb9f3a\"], [0.8888888888888888, \"#fdca26\"], [1.0, \"#f0f921\"]], \"type\": \"surface\"}], \"table\": [{\"cells\": {\"fill\": {\"color\": \"#EBF0F8\"}, \"line\": {\"color\": \"white\"}}, \"header\": {\"fill\": {\"color\": \"#C8D4E3\"}, \"line\": {\"color\": \"white\"}}, \"type\": \"table\"}]}, \"layout\": {\"annotationdefaults\": {\"arrowcolor\": \"#2a3f5f\", \"arrowhead\": 0, \"arrowwidth\": 1}, \"autotypenumbers\": \"strict\", \"coloraxis\": {\"colorbar\": {\"outlinewidth\": 0, \"ticks\": \"\"}}, \"colorscale\": {\"diverging\": [[0, \"#8e0152\"], [0.1, \"#c51b7d\"], [0.2, \"#de77ae\"], [0.3, \"#f1b6da\"], [0.4, \"#fde0ef\"], [0.5, \"#f7f7f7\"], [0.6, \"#e6f5d0\"], [0.7, \"#b8e186\"], [0.8, \"#7fbc41\"], [0.9, \"#4d9221\"], [1, \"#276419\"]], \"sequential\": [[0.0, \"#0d0887\"], [0.1111111111111111, \"#46039f\"], [0.2222222222222222, \"#7201a8\"], [0.3333333333333333, \"#9c179e\"], [0.4444444444444444, \"#bd3786\"], [0.5555555555555556, \"#d8576b\"], [0.6666666666666666, \"#ed7953\"], [0.7777777777777778, \"#fb9f3a\"], [0.8888888888888888, \"#fdca26\"], [1.0, \"#f0f921\"]], \"sequentialminus\": [[0.0, \"#0d0887\"], [0.1111111111111111, \"#46039f\"], [0.2222222222222222, \"#7201a8\"], [0.3333333333333333, \"#9c179e\"], [0.4444444444444444, \"#bd3786\"], [0.5555555555555556, \"#d8576b\"], [0.6666666666666666, \"#ed7953\"], [0.7777777777777778, \"#fb9f3a\"], [0.8888888888888888, \"#fdca26\"], [1.0, \"#f0f921\"]]}, \"colorway\": [\"#636efa\", \"#EF553B\", \"#00cc96\", \"#ab63fa\", \"#FFA15A\", \"#19d3f3\", \"#FF6692\", \"#B6E880\", \"#FF97FF\", \"#FECB52\"], \"font\": {\"color\": \"#2a3f5f\"}, \"geo\": {\"bgcolor\": \"white\", \"lakecolor\": \"white\", \"landcolor\": \"#E5ECF6\", \"showlakes\": true, \"showland\": true, \"subunitcolor\": \"white\"}, \"hoverlabel\": {\"align\": \"left\"}, \"hovermode\": \"closest\", \"mapbox\": {\"style\": \"light\"}, \"paper_bgcolor\": \"white\", \"plot_bgcolor\": \"#E5ECF6\", \"polar\": {\"angularaxis\": {\"gridcolor\": \"white\", \"linecolor\": \"white\", \"ticks\": \"\"}, \"bgcolor\": \"#E5ECF6\", \"radialaxis\": {\"gridcolor\": \"white\", \"linecolor\": \"white\", \"ticks\": \"\"}}, \"scene\": {\"xaxis\": {\"backgroundcolor\": \"#E5ECF6\", \"gridcolor\": \"white\", \"gridwidth\": 2, \"linecolor\": \"white\", \"showbackground\": true, \"ticks\": \"\", \"zerolinecolor\": \"white\"}, \"yaxis\": {\"backgroundcolor\": \"#E5ECF6\", \"gridcolor\": \"white\", \"gridwidth\": 2, \"linecolor\": \"white\", \"showbackground\": true, \"ticks\": \"\", \"zerolinecolor\": \"white\"}, \"zaxis\": {\"backgroundcolor\": \"#E5ECF6\", \"gridcolor\": \"white\", \"gridwidth\": 2, \"linecolor\": \"white\", \"showbackground\": true, \"ticks\": \"\", \"zerolinecolor\": \"white\"}}, \"shapedefaults\": {\"line\": {\"color\": \"#2a3f5f\"}}, \"ternary\": {\"aaxis\": {\"gridcolor\": \"white\", \"linecolor\": \"white\", \"ticks\": \"\"}, \"baxis\": {\"gridcolor\": \"white\", \"linecolor\": \"white\", \"ticks\": \"\"}, \"bgcolor\": \"#E5ECF6\", \"caxis\": {\"gridcolor\": \"white\", \"linecolor\": \"white\", \"ticks\": \"\"}}, \"title\": {\"x\": 0.05}, \"xaxis\": {\"automargin\": true, \"gridcolor\": \"white\", \"linecolor\": \"white\", \"ticks\": \"\", \"title\": {\"standoff\": 15}, \"zerolinecolor\": \"white\", \"zerolinewidth\": 2}, \"yaxis\": {\"automargin\": true, \"gridcolor\": \"white\", \"linecolor\": \"white\", \"ticks\": \"\", \"title\": {\"standoff\": 15}, \"zerolinecolor\": \"white\", \"zerolinewidth\": 2}}}, \"title\": {\"text\": \"Direct religious association of IJOP App \\\"Person Types\\\" data collection\"}, \"xaxis\": {\"anchor\": \"y\", \"categoryarray\": [true, false], \"categoryorder\": \"array\", \"domain\": [0.0, 1.0], \"title\": {\"text\": \"Do \\\"Person Type(s) directly record religious association of an individual?\"}}, \"yaxis\": {\"anchor\": \"x\", \"categoryarray\": [\"Not applicable\", \"Islam\"], \"categoryorder\": \"array\", \"domain\": [0.0, 1.0], \"title\": {\"text\": \"count\"}}},                        {\"responsive\": true}                    ).then(function(){\n",
       "                            \n",
       "var gd = document.getElementById('d1dcd399-66a0-44e0-b7e2-0626231c3a09');\n",
       "var x = new MutationObserver(function (mutations, observer) {{\n",
       "        var display = window.getComputedStyle(gd).display;\n",
       "        if (!display || display === 'none') {{\n",
       "            console.log([gd, 'removed!']);\n",
       "            Plotly.purge(gd);\n",
       "            observer.disconnect();\n",
       "        }}\n",
       "}});\n",
       "\n",
       "// Listen for the removal of the full notebook cells\n",
       "var notebookContainer = gd.closest('#notebook-container');\n",
       "if (notebookContainer) {{\n",
       "    x.observe(notebookContainer, {childList: true});\n",
       "}}\n",
       "\n",
       "// Listen for the clearing of the current output cell\n",
       "var outputEl = gd.closest('.output');\n",
       "if (outputEl) {{\n",
       "    x.observe(outputEl, {childList: true});\n",
       "}}\n",
       "\n",
       "                        })                };                });            </script>        </div>"
      ]
     },
     "metadata": {},
     "output_type": "display_data"
    }
   ],
   "source": [
    "# histogram chart using function (histfunc) of count as y axis (counting distinct person types)\n",
    "\n",
    "fig = px.histogram(persontypes_df, \n",
    "             x=\"Direct Religious Association\", \n",
    "             y=\"Associated Religion\",\n",
    "             histfunc='count',\n",
    "             color=\"Associated Religion\", \n",
    "             barmode='overlay', \n",
    "             opacity=1,\n",
    "             color_discrete_map={'Islam': ['#0099FF'], \n",
    "                                 'Not applicable': ['#DADEDA']},\n",
    "             category_orders={\"Direct Religious Association\": [True, False], \n",
    "                              \"Associated Religion\": [\"Islam\", \"Not applicable\"]},\n",
    "             hover_data={\"Direct Religious Association\": False, \n",
    "                         \"Associated Religion\": True}, \n",
    "             labels={\"Direct Religious Association\": 'Do \"Person Type(s) directly record religious association of an individual?'},\n",
    "             title='Direct religious association of IJOP App \"Person Types\" data collection'\n",
    "            )\n",
    "#Make adjustments to above figure to alter formatting\n",
    "#add a background color, relative to the PRC flag #ee1c25, in tones of (grey added)\n",
    "#fig.update_layout(plot_bgcolor=\"#a3676a\")\n",
    "#Instead using a hsla color converted from #ee1c25, adding the alpha channel for transparency at the end.\n",
    "#With a white paper background, alpha 0.3 or 0.175 worked well, but with change to black background returned to full opacity (1)\n",
    "fig.update_layout(plot_bgcolor=\"hsla(357.4,86.1%,52.2%,1)\", #sets background color of the plotting area, as described in comment above\n",
    "                 margin_pad=0, #adds space between plotting area and axis lines; returned to 0 with black background\n",
    "                 paper_bgcolor=\"#000000\", #sets background color of the paper to black\n",
    "                 font_color=\"#DADEDA\", #sets font color to white\n",
    "                 font_size=14\n",
    "                 )\n",
    "\n",
    "\n"
   ]
  },
  {
   "cell_type": "markdown",
   "metadata": {},
   "source": [
    "### Information Source(s)\n",
    "\n",
    "__Human Rights Watch__ (HRW) is an advocacy 501(C)(3) nonprofit registered organization in the United States. In its own words, \"(They) are roughly 450 people of 70-plus nationalities who are country experts, lawyers, journalists, and others who work to protect the most at risk, from vulnerable minorities and civilians in wartime, to refugees and children in need.\"$^{[3]}$ Learn more at https://www.hrw.org/\n",
    "\n",
    "__Cure53__ is a Berlin-based (Germany) information security company that HRW enlisted to “reverse engineer” and produce a technical assessment of the IJOP app and its computer programming source code in 2018. Its work formed the basis of the HRW report this visualization is based on.$^{[4]}$$^{[5]}$ Learn more at https://cure53.de/."
   ]
  },
  {
   "cell_type": "markdown",
   "metadata": {},
   "source": [
    "## Visualization Brief\n",
    "\n",
    "Written in the planning of this visualization, to direct decision making throughout execution for its effectiveness.\n",
    "\n",
    "1. **Goals/Intent**: Illustrate how *religion factors into the surveillance and data collection by China's officials* of the residents living in its recognized Xinjiang Uyghur Autonomous Region. Calculate and show exactly *to what extent religion directly is used* in its process of identifying suspicious persons. An example of potential application is for HRW to incorporate this or a similar visualization into a report such as its 2019 *China’s Algorithms of Repression, Human Rights Watch* which was the source of data used in these graphs.\n",
    "\n",
    "2. **Primary Audience**: To Concerned Governments (international and outside of China), I direct this visualization with the aim to encourage them to publicly name, along with existing individuals, any and all businesses or technology companies along with and as part of export control lists or to the extent there are any assets under control outside of China that may be freezed by international parties, whether owned in whole or in part publicly or by the 'state' of China, . This is informed by HRW as it cited Chinese companies as one of its *Recommendations* to *Concerned Governments*. I would like to focus on the technology companies and the extent to which technology acts amplify this inequitable surveillance and data collection on the basis of religion, however because the company that built this app and its parent corporation are both solely 100% owned by the government of China, PRC, it seems like a mute point to focus on the complicity of technology companies and their responsibility to prevent human rights abuses as separate from the government or other purchasers or users of its technology.\n",
    "\n",
    "3. **Approach**: Construct a data table from the reported app questions and religions list of choides of religions it included in its data collection. Supplement the HRW written report and screenshots of the IJOP app with visual representations of the data being collected in the context of religion; provide clear representation of app content as data rather than solely reporting it in the form of text which risks it being interpreted as prose, leaving facts to be watered down as the audience forms its picture of the information presented. Plainly compare among those religions listed as choices, how many of the 36 \"Person Types\" the Chinese officials are paying special attention to through the app data collection throughout *East Turkistan/Xinjiang* are directly associated with each religion and/or its known practices. Disregard any indirect or implied connection to religion for this fact based purpose purpose, such as implication in the riots of Urumqi even though that is generally known to have been Uyghur peoples who were involved and who are majority practicing of Islamic religion. "
   ]
  },
  {
   "cell_type": "markdown",
   "metadata": {},
   "source": [
    "#### Cited or Referenced\n",
    "\n",
    "$^{[1]}$ China’s Algorithms of Repression, Human Rights Watch, 5/1/2019, https://www.hrw.org/report/2019/05/01/chinas-algorithms-repression/reverse-engineering-xinjiang-police-mass\n",
    "\n",
    "$^{[2]}$ Uyghur' or 'Uighur'?, Radio Free Asia, 9/10/2010, https://www.rfa.org/english/news/uyghur/uyghur-spelling-09062010161733.html\n",
    "\n",
    "$^{[3]}$ About Us: Who We Are, Human Rights Watch, accessed 6/9/2021, https://www.hrw.org/about/about-us\n",
    "\n",
    "$^{[4]}$ Cure53: Fine penetration tests for fine websites, Cure53, accessed 6/13/2021, https://cure53.de/\n",
    "\n",
    "$^{[5]}$ Analysis-Report Chinese Police App “IJOP” 12.2018, Several Members of the Cure53 Team, Cure53, accessed 6/13/2021, https://cure53.de/analysis-report_ijop.pdf\n",
    "\n",
    "National Flag, East Turkistan National Awakening Movement, accessed 6/12/2021, https://nationalawakening.org/national-flag/ _(cited, \"#0099FF is the official color code for the flag as designated by East Turkistan Government in Exile.\")\n",
    "\n",
    "Flag of East Turkestan, LinkFang, accessed 6/12/2021,\n",
    "https://en.linkfang.org/wiki/Flag_of_East_Turkestan#cite_note-4 _(cited #65B7FF hexidecimal color of flag)_\n",
    "\n",
    "Uyghur Academy on Uyghur issue, Uyghur Academy, accessed 6/12/2021, https://www.akademiye.org/ug/?p=12015 _(cited #65B7FF hexidecimal color of flag)_\n",
    "\n",
    "File:The Flag of East Turkistan Republic.png, Wikimedia Commons, accessed 6/12/2021, https://commons.wikimedia.org/wiki/File:The_Flag_of_East_Turkistan_Republic.png, licensed under the <a href=\"https://en.wikipedia.org/wiki/en:Creative_Commons\">Creative Commons</a> <a href=\"https://creativecommons.org/licenses/by-sa/3.0/deed.en\">Attribution-Share Alike 3.0 Unported license</a>. _(used #65B7FF hexidecimal color of flag)_\n",
    "\n",
    "National flag pattern used on the Internet, The National People's Congress of the People's Republic of China, accessed 6/12/2021, http://www.npc.gov.cn/npc/gqgggh/202012/7ac70d3a4cfb480ea9edc872bdc85578.shtml\n",
    "\n",
    "Flag of China, Wikipedia, accessed 6/12/2021, https://en.wikipedia.org/wiki/Flag_of_China, _(cited #ee1c25 hexidecimal color of flag)_\n",
    "\n",
    "#ee1c25, ColorHexa #ee1c25 hex color, accessed 6/12/2021, https://www.colorhexa.com/ee1c25"
   ]
  }
 ],
 "metadata": {
  "kernelspec": {
   "display_name": "Python 3",
   "language": "python",
   "name": "python3"
  },
  "language_info": {
   "codemirror_mode": {
    "name": "ipython",
    "version": 3
   },
   "file_extension": ".py",
   "mimetype": "text/x-python",
   "name": "python",
   "nbconvert_exporter": "python",
   "pygments_lexer": "ipython3",
   "version": "3.8.3"
  }
 },
 "nbformat": 4,
 "nbformat_minor": 4
}
