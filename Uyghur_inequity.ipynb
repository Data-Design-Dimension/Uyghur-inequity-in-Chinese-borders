{
 "cells": [
  {
   "cell_type": "code",
   "execution_count": null,
   "metadata": {},
   "outputs": [],
   "source": [
    "import pandas as pd\n",
    "import plotly.express as px\n",
    "import plotly.graph_objects as go"
   ]
  },
  {
   "cell_type": "markdown",
   "metadata": {},
   "source": [
    "# Do Chinese authorities suspect Turkic Muslims inequitably based on their Islamic religion?\n",
    "\n",
    "### Technology in the form of China's Integrated Joint Operations Platform (IJOP, 一体化联合作战平台) bolstered mass surveillance programs targeting Uyghur Muslims, and measure their actions and behavior as suspicious which are not crimes under Chinese law. $^{[1]}$\n",
    "\n",
    "An IJOP mobile app used by police and other Chinese officials in the lands known by the Uyghurs (维吾尔人) as East Turkistan/Turkestan, and perhaps more commonly known to the international world by the name recognized by the People's Republic of China (中华人民共和国 ), Xinjiang Uyghur Autonomous Region (新疆维吾尔自治区)–or just Xinjiang.$^{[1]}$$^{[2]}$\n",
    "\n",
    "> The IJOP app demonstrates that Chinese authorities consider certain peaceful religious activities as suspicious, such as donating to mosques or preaching the Quran without authorization. But most of the other behavior the app considers problematic are ethnic-and religion-neutral.$^{[1]}$"
   ]
  },
  {
   "cell_type": "code",
   "execution_count": 81,
   "metadata": {},
   "outputs": [],
   "source": [
    "# Commented out because I did not end up using this data for this visualization.\n",
    "# # Build dataframe of section III. Categories of People Authorities Find Suspicious,\n",
    "# # from the documentation of the questions in the reengineered mass surveillance app used by Xinjiang police to record \"Suspiciousness\" of individuals.\n",
    "# # primary data source, except where otherwise indicated: https://www.hrw.org/report/2019/05/01/chinas-algorithms-repression/reverse-engineering-xinjiang-police-mass\n",
    "\n",
    "# # assign data of lists.  \n",
    "# sus_data = {\n",
    "#     'Category': ['People who move into or out of their registered residency (or “hukou”) area', \n",
    "#                  'People who move into or out of their registered residency (or “hukou”) area', \n",
    "#                  'People who move into or out of their registered residency (or “hukou”) area',\n",
    "#                  'People who have “problematic” relationships',\n",
    "#                  'People who have “problematic” relationships',\n",
    "#                  'People who have “problematic” relationships',\n",
    "#                  'People who use an “unusual” amount of electricity', \n",
    "#                  'People who have gone “off-grid”', \n",
    "#                  'People with mismatched identities', \n",
    "#                  '“Problematic” individuals', \n",
    "#                  '“Problematic” vehicles', \n",
    "#                  '“Matched” persons', \n",
    "#                  '“Matched” vehicles'\n",
    "#                 ], \n",
    "#     'Subcategory': ['Internal migrants', \n",
    "#                     \"People who have go abroad “for too long” (“overdue” persons)\", \n",
    "#                     'People returning  from abroad',\n",
    "#                     'People targeted in “Operation 913”',\n",
    "#                     'Embassy Alert',\n",
    "#                     '\"Four associations\"', \n",
    "#                     \"No Subcategory (Category level only)\", \n",
    "#                     \"No Subcategory (Category level only)\", \n",
    "#                     \"No Subcategory (Category level only)\", \n",
    "#                     \"No Subcategory (Category level only)\", \n",
    "#                     \"No Subcategory (Category level only)\", \n",
    "#                     \"No Subcategory (Category level only)\", \n",
    "#                     \"No Subcategory (Category level only)\"                    \n",
    "#                    ], \n",
    "#     'Further information': [\"the household registration (hukou) system in China, classifying each person as a rural or an urban resident, from source https://pubmed.ncbi.nlm.nih.gov/20734556/\", \n",
    "#                             'see p. 32 at https://www.hrw.org/report/2019/05/01/chinas-algorithms-repression/reverse-engineering-xinjiang-police-mass#_Internal_Migrants_1', \n",
    "#                             'see p. 33 at https://www.hrw.org/report/2019/05/01/chinas-algorithms-repression/reverse-engineering-xinjiang-police-mass#_People_Who_Go', \n",
    "#                             'see p. 35 at https://www.hrw.org/report/2019/05/01/chinas-algorithms-repression/reverse-engineering-xinjiang-police-mass#_People_Targeted_in_1', \n",
    "#                             'see p. 37 at https://www.hrw.org/report/2019/05/01/chinas-algorithms-repression/reverse-engineering-xinjiang-police-mass', \n",
    "#                             'see p. 37 at https://www.hrw.org/report/2019/05/01/chinas-algorithms-repression/reverse-engineering-xinjiang-police-mass#_Tracking_people%E2%80%99s_relationships', \n",
    "#                             'see p. 38 at https://www.hrw.org/report/2019/05/01/chinas-algorithms-repression/reverse-engineering-xinjiang-police-mass#_Tracking_electricity_use', \n",
    "#                             'see p. 39 at https://www.hrw.org/report/2019/05/01/chinas-algorithms-repression/reverse-engineering-xinjiang-police-mass#_Tracking_mobile_phones,', \n",
    "#                             'see p. 41 at https://www.hrw.org/report/2019/05/01/chinas-algorithms-repression/reverse-engineering-xinjiang-police-mass#_Mismatches_identities', \n",
    "#                             'see p. 42 at https://www.hrw.org/report/2019/05/01/chinas-algorithms-repression/reverse-engineering-xinjiang-police-mass#_Problematic_individuals', \n",
    "#                             'see p. 44 at https://www.hrw.org/report/2019/05/01/chinas-algorithms-repression/reverse-engineering-xinjiang-police-mass#_Problematic_vehicles', \n",
    "#                             'see p. 44 at https://www.hrw.org/report/2019/wangm/Documents/HRW/HRW/Xinjiang/IJOP/Investigation/Matched#_', \n",
    "#                             'see p. 48 at https://www.hrw.org/report/2019/wangm/Documents/HRW/HRW/Xinjiang/IJOP/Investigation/Matched#_'                            \n",
    "#                            ] \n",
    "# }  \n",
    "  \n",
    "# # Create DataFrame  \n",
    "# sus_df = pd.DataFrame(sus_data)\n",
    "  \n",
    "# # Print /view the output.  \n",
    "# sus_df; "
   ]
  },
  {
   "cell_type": "code",
   "execution_count": 107,
   "metadata": {},
   "outputs": [],
   "source": [
    "# IJOP app collection data includes 36 \"Person Types\" which authorities are paying special attention to are listed in  image,\n",
    "# at https://www.hrw.org/sites/default/files/multimedia_images_2019/201904asia_china_graphic.jpg\n",
    "\n",
    "# Build dataframe of 36 \"Person Types\" authorities target for IJOP App data collection\n",
    "# from the documentation of the questions in the reengineered mass surveillance app used by Xinjiang police to record \"Suspiciousness\" of individuals.\n",
    "# primary data source, except where otherwise indicated: https://www.hrw.org/report/2019/05/01/chinas-algorithms-repression/reverse-engineering-xinjiang-police-mass\n",
    "# assign data of lists.  \n",
    "persontypes_data = {\n",
    "    'Person Type': ['Released from security-related sentence, and family', \n",
    "                    'Unofficial Imam', \n",
    "                    'Gone on Hajj without state authorization', \n",
    "                    'Follower, or follower of follower, of person associated with \"the Six Lines\" (six religious scholars and intellectuals authorities consider particularly threatening in Xinjiang)', \n",
    "                    'Share or receive \"Wahhabism\"', \n",
    "                    'Subjected to \"political education\"',\n",
    "                    'Returned from abroad', \n",
    "                    'Relative of person who is sentenced to death, was shot to death, or blew themselves up', \n",
    "                    'Classified under categories 3, 4 and 5 by the National Security Unit of the Ministry of Public Safety', \n",
    "                    'Suddenly returned to home town after being away for a long time', \n",
    "                    'Sentenced to \"control and surveillance\"–a non-custodial sentence in which police supervise a person for 3 to 24 months; or \"juyi\"–a sentence of 1 to 6 months served in police detention centers–during the Strike Hard Campaign, but sentence instead has been converted to \"community corrections\"', \n",
    "                    'Released after serving a sentence for the July 2009 Urumqi riots, and family', \n",
    "                    'Used smart phones in the past but has stopped altogether, or using only analog phones', \n",
    "                    'Does not socialize with neighbors, seldom uses front door, and acts suspiciously', \n",
    "                    'Collected money or materials for mosques with enthusiasm', \n",
    "                    'Suddenly sells all belongings and moves for no apparent reason, especially with their entire family', \n",
    "                    'Household uses an abnormal amount of electricity', \n",
    "                    'Violated the family planning policy and has more children than allowed', \n",
    "                    'Knows welding and how to make explosives', \n",
    "                    'For no apparent reason, unwilling to enjoy policies that benefit the people or fails to participate in activities organized by the local government or the Party', \n",
    "                    \"Registers [with the authorities] to travel abroad\", \n",
    "                    'Electricity meter is missing in the data collected by government officials during home-visit', \n",
    "                    'Reported number of persons in household differs from the actual number of persons found at home when government officials visit', \n",
    "                    'Did not tell government officials conducting home visit of already having a passport', \n",
    "                    'Gone \"off-grid\" since January 1, 2016 but missing trajectory was not registered with government officials conducting home visit', \n",
    "                    'Flagged by the IJOP as using an abnormal amount of electricity', \n",
    "                    'Moved out of their locale', \n",
    "                    'Moved into their locale', \n",
    "                    'Person and ID card mismatch', \n",
    "                    'Person and phone mismatch', \n",
    "                    'Person and vehicle mismatch', \n",
    "                    'Connected to the clues of cases', \n",
    "                    'Connected to \"those on the run\"',\n",
    "                    'Connected to \"those abroad\"', \n",
    "                    'Connected to \"those who are being especially watched\"', \n",
    "                    'Other'\n",
    "                ], \n",
    "\n",
    "#     'Direct Religious Association': [False, \n",
    "#                                      True, \n",
    "#                                      True, \n",
    "#                                      True, \n",
    "#                                      True, \n",
    "#                                      False, \n",
    "#                                      False, \n",
    "#                                      False, \n",
    "#                                      False, \n",
    "#                                      False, \n",
    "#                                      False, \n",
    "#                                      False, \n",
    "#                                      False, \n",
    "#                                      False, \n",
    "#                                      True, \n",
    "#                                      False, \n",
    "#                                      False, \n",
    "#                                      False, \n",
    "#                                      False, \n",
    "#                                      False, \n",
    "#                                      False, \n",
    "#                                      False, \n",
    "#                                      False, \n",
    "#                                      False, \n",
    "#                                      False, \n",
    "#                                      False, \n",
    "#                                      False, \n",
    "#                                      False, \n",
    "#                                      False, \n",
    "#                                      False, \n",
    "#                                      False, \n",
    "#                                      False, \n",
    "#                                      False, \n",
    "#                                      False, \n",
    "#                                      False, \n",
    "#                                      False                      \n",
    "#                    ], \n",
    "# Using the string data type instead of boolean, \n",
    "#    because \"Yes\" and \"No\" are more naturally read in the graph by audience combined with labels, title.\n",
    "    'Direct Religious Association': ['No', \n",
    "                                     'Yes', \n",
    "                                     'Yes', \n",
    "                                     'Yes', \n",
    "                                     'Yes', \n",
    "                                     'No', \n",
    "                                     'No', \n",
    "                                     'No', \n",
    "                                     'No', \n",
    "                                     'No', \n",
    "                                     'No', \n",
    "                                     'No', \n",
    "                                     'No', \n",
    "                                     'No', \n",
    "                                     'Yes', \n",
    "                                     'No', \n",
    "                                     'No', \n",
    "                                     'No', \n",
    "                                     'No', \n",
    "                                     'No', \n",
    "                                     'No', \n",
    "                                     'No', \n",
    "                                     'No', \n",
    "                                     'No', \n",
    "                                     'No', \n",
    "                                     'No', \n",
    "                                     'No', \n",
    "                                     'No', \n",
    "                                     'No', \n",
    "                                     'No', \n",
    "                                     'No', \n",
    "                                     'No', \n",
    "                                     'No', \n",
    "                                     'No', \n",
    "                                     'No', \n",
    "                                     'No'                      \n",
    "                   ],     \n",
    "    'Associated Religion': ['Not applicable', \n",
    "                            'Islam', \n",
    "                            'Islam', \n",
    "                            'Islam', \n",
    "                            'Islam', \n",
    "                            'Not applicable', \n",
    "                            'Not applicable', \n",
    "                            'Not applicable', \n",
    "                            'Not applicable', \n",
    "                            'Not applicable', \n",
    "                            'Not applicable', \n",
    "                            'Not applicable', \n",
    "                            'Not applicable', \n",
    "                            'Not applicable', \n",
    "                            'Islam', \n",
    "                            'Not applicable', \n",
    "                            'Not applicable', \n",
    "                            'Not applicable', \n",
    "                            'Not applicable', \n",
    "                            'Not applicable', \n",
    "                            'Not applicable', \n",
    "                            'Not applicable', \n",
    "                            'Not applicable', \n",
    "                            'Not applicable', \n",
    "                            'Not applicable', \n",
    "                            'Not applicable', \n",
    "                            'Not applicable', \n",
    "                            'Not applicable', \n",
    "                            'Not applicable', \n",
    "                            'Not applicable', \n",
    "                            'Not applicable', \n",
    "                            'Not applicable', \n",
    "                            'Not applicable', \n",
    "                            'Not applicable', \n",
    "                            'Not applicable', \n",
    "                            'Not applicable'\n",
    "                           ]\n",
    "}  \n",
    "  \n",
    "# Create DataFrame  \n",
    "persontypes_df = pd.DataFrame(persontypes_data)  \n",
    "  \n",
    "# Print/ view the output.  \n",
    "persontypes_df\n",
    "\n",
    "# Make a dataframe of the IJOP app options for the question of Religion\n",
    "# First the dictionary of values with a column label 'Religion'\n",
    "religion_data = {\n",
    "    'Religion': ['Islam', \n",
    "                 'Buddhism', \n",
    "                 'Christianity', \n",
    "                 'Other', \n",
    "                 'None'\n",
    "                ],\n",
    "    # Construct the small summary count totals for religion column manually, \n",
    "    # because only Islam exists in the Person Types dataset and this is the fastest method to make the table.\n",
    "    'Number of Person Types': [5, 0, 0, 0, 0]\n",
    "}\n",
    "religion_df = pd.DataFrame(religion_data)     \n",
    "religion_df;"
   ]
  },
  {
   "cell_type": "code",
   "execution_count": 98,
   "metadata": {
    "scrolled": true
   },
   "outputs": [
    {
     "data": {
      "application/vnd.plotly.v1+json": {
       "config": {
        "plotlyServerURL": "https://plot.ly"
       },
       "data": [
        {
         "alignmentgroup": "True",
         "bingroup": "x",
         "histfunc": "count",
         "hovertemplate": "Associated Religion=Islam<br>count=%{y}<extra></extra>",
         "legendgroup": "Islam",
         "marker": {
          "color": [
           "#0099FF"
          ],
          "opacity": 1
         },
         "name": "Islam",
         "offsetgroup": "Islam",
         "orientation": "v",
         "showlegend": true,
         "type": "histogram",
         "x": [
          "Yes",
          "Yes",
          "Yes",
          "Yes",
          "Yes"
         ],
         "xaxis": "x",
         "yaxis": "y"
        },
        {
         "alignmentgroup": "True",
         "bingroup": "x",
         "histfunc": "count",
         "hovertemplate": "Associated Religion=Not applicable<br>count=%{y}<extra></extra>",
         "legendgroup": "Not applicable",
         "marker": {
          "color": [
           "#DADEDA"
          ],
          "opacity": 1
         },
         "name": "Not applicable",
         "offsetgroup": "Not applicable",
         "orientation": "v",
         "showlegend": true,
         "type": "histogram",
         "x": [
          "No",
          "No",
          "No",
          "No",
          "No",
          "No",
          "No",
          "No",
          "No",
          "No",
          "No",
          "No",
          "No",
          "No",
          "No",
          "No",
          "No",
          "No",
          "No",
          "No",
          "No",
          "No",
          "No",
          "No",
          "No",
          "No",
          "No",
          "No",
          "No",
          "No",
          "No"
         ],
         "xaxis": "x",
         "yaxis": "y"
        }
       ],
       "layout": {
        "bargap": 0.075,
        "barmode": "relative",
        "font": {
         "color": "#DADEDA",
         "size": 15
        },
        "legend": {
         "title": {
          "text": "Associated Religion"
         },
         "tracegroupgap": 0
        },
        "margin": {
         "pad": 0
        },
        "paper_bgcolor": "#000000",
        "plot_bgcolor": "hsla(357.4,86.1%,52.2%,1)",
        "template": {
         "data": {
          "bar": [
           {
            "error_x": {
             "color": "#2a3f5f"
            },
            "error_y": {
             "color": "#2a3f5f"
            },
            "marker": {
             "line": {
              "color": "#E5ECF6",
              "width": 0.5
             }
            },
            "type": "bar"
           }
          ],
          "barpolar": [
           {
            "marker": {
             "line": {
              "color": "#E5ECF6",
              "width": 0.5
             }
            },
            "type": "barpolar"
           }
          ],
          "carpet": [
           {
            "aaxis": {
             "endlinecolor": "#2a3f5f",
             "gridcolor": "white",
             "linecolor": "white",
             "minorgridcolor": "white",
             "startlinecolor": "#2a3f5f"
            },
            "baxis": {
             "endlinecolor": "#2a3f5f",
             "gridcolor": "white",
             "linecolor": "white",
             "minorgridcolor": "white",
             "startlinecolor": "#2a3f5f"
            },
            "type": "carpet"
           }
          ],
          "choropleth": [
           {
            "colorbar": {
             "outlinewidth": 0,
             "ticks": ""
            },
            "type": "choropleth"
           }
          ],
          "contour": [
           {
            "colorbar": {
             "outlinewidth": 0,
             "ticks": ""
            },
            "colorscale": [
             [
              0,
              "#0d0887"
             ],
             [
              0.1111111111111111,
              "#46039f"
             ],
             [
              0.2222222222222222,
              "#7201a8"
             ],
             [
              0.3333333333333333,
              "#9c179e"
             ],
             [
              0.4444444444444444,
              "#bd3786"
             ],
             [
              0.5555555555555556,
              "#d8576b"
             ],
             [
              0.6666666666666666,
              "#ed7953"
             ],
             [
              0.7777777777777778,
              "#fb9f3a"
             ],
             [
              0.8888888888888888,
              "#fdca26"
             ],
             [
              1,
              "#f0f921"
             ]
            ],
            "type": "contour"
           }
          ],
          "contourcarpet": [
           {
            "colorbar": {
             "outlinewidth": 0,
             "ticks": ""
            },
            "type": "contourcarpet"
           }
          ],
          "heatmap": [
           {
            "colorbar": {
             "outlinewidth": 0,
             "ticks": ""
            },
            "colorscale": [
             [
              0,
              "#0d0887"
             ],
             [
              0.1111111111111111,
              "#46039f"
             ],
             [
              0.2222222222222222,
              "#7201a8"
             ],
             [
              0.3333333333333333,
              "#9c179e"
             ],
             [
              0.4444444444444444,
              "#bd3786"
             ],
             [
              0.5555555555555556,
              "#d8576b"
             ],
             [
              0.6666666666666666,
              "#ed7953"
             ],
             [
              0.7777777777777778,
              "#fb9f3a"
             ],
             [
              0.8888888888888888,
              "#fdca26"
             ],
             [
              1,
              "#f0f921"
             ]
            ],
            "type": "heatmap"
           }
          ],
          "heatmapgl": [
           {
            "colorbar": {
             "outlinewidth": 0,
             "ticks": ""
            },
            "colorscale": [
             [
              0,
              "#0d0887"
             ],
             [
              0.1111111111111111,
              "#46039f"
             ],
             [
              0.2222222222222222,
              "#7201a8"
             ],
             [
              0.3333333333333333,
              "#9c179e"
             ],
             [
              0.4444444444444444,
              "#bd3786"
             ],
             [
              0.5555555555555556,
              "#d8576b"
             ],
             [
              0.6666666666666666,
              "#ed7953"
             ],
             [
              0.7777777777777778,
              "#fb9f3a"
             ],
             [
              0.8888888888888888,
              "#fdca26"
             ],
             [
              1,
              "#f0f921"
             ]
            ],
            "type": "heatmapgl"
           }
          ],
          "histogram": [
           {
            "marker": {
             "colorbar": {
              "outlinewidth": 0,
              "ticks": ""
             }
            },
            "type": "histogram"
           }
          ],
          "histogram2d": [
           {
            "colorbar": {
             "outlinewidth": 0,
             "ticks": ""
            },
            "colorscale": [
             [
              0,
              "#0d0887"
             ],
             [
              0.1111111111111111,
              "#46039f"
             ],
             [
              0.2222222222222222,
              "#7201a8"
             ],
             [
              0.3333333333333333,
              "#9c179e"
             ],
             [
              0.4444444444444444,
              "#bd3786"
             ],
             [
              0.5555555555555556,
              "#d8576b"
             ],
             [
              0.6666666666666666,
              "#ed7953"
             ],
             [
              0.7777777777777778,
              "#fb9f3a"
             ],
             [
              0.8888888888888888,
              "#fdca26"
             ],
             [
              1,
              "#f0f921"
             ]
            ],
            "type": "histogram2d"
           }
          ],
          "histogram2dcontour": [
           {
            "colorbar": {
             "outlinewidth": 0,
             "ticks": ""
            },
            "colorscale": [
             [
              0,
              "#0d0887"
             ],
             [
              0.1111111111111111,
              "#46039f"
             ],
             [
              0.2222222222222222,
              "#7201a8"
             ],
             [
              0.3333333333333333,
              "#9c179e"
             ],
             [
              0.4444444444444444,
              "#bd3786"
             ],
             [
              0.5555555555555556,
              "#d8576b"
             ],
             [
              0.6666666666666666,
              "#ed7953"
             ],
             [
              0.7777777777777778,
              "#fb9f3a"
             ],
             [
              0.8888888888888888,
              "#fdca26"
             ],
             [
              1,
              "#f0f921"
             ]
            ],
            "type": "histogram2dcontour"
           }
          ],
          "mesh3d": [
           {
            "colorbar": {
             "outlinewidth": 0,
             "ticks": ""
            },
            "type": "mesh3d"
           }
          ],
          "parcoords": [
           {
            "line": {
             "colorbar": {
              "outlinewidth": 0,
              "ticks": ""
             }
            },
            "type": "parcoords"
           }
          ],
          "pie": [
           {
            "automargin": true,
            "type": "pie"
           }
          ],
          "scatter": [
           {
            "marker": {
             "colorbar": {
              "outlinewidth": 0,
              "ticks": ""
             }
            },
            "type": "scatter"
           }
          ],
          "scatter3d": [
           {
            "line": {
             "colorbar": {
              "outlinewidth": 0,
              "ticks": ""
             }
            },
            "marker": {
             "colorbar": {
              "outlinewidth": 0,
              "ticks": ""
             }
            },
            "type": "scatter3d"
           }
          ],
          "scattercarpet": [
           {
            "marker": {
             "colorbar": {
              "outlinewidth": 0,
              "ticks": ""
             }
            },
            "type": "scattercarpet"
           }
          ],
          "scattergeo": [
           {
            "marker": {
             "colorbar": {
              "outlinewidth": 0,
              "ticks": ""
             }
            },
            "type": "scattergeo"
           }
          ],
          "scattergl": [
           {
            "marker": {
             "colorbar": {
              "outlinewidth": 0,
              "ticks": ""
             }
            },
            "type": "scattergl"
           }
          ],
          "scattermapbox": [
           {
            "marker": {
             "colorbar": {
              "outlinewidth": 0,
              "ticks": ""
             }
            },
            "type": "scattermapbox"
           }
          ],
          "scatterpolar": [
           {
            "marker": {
             "colorbar": {
              "outlinewidth": 0,
              "ticks": ""
             }
            },
            "type": "scatterpolar"
           }
          ],
          "scatterpolargl": [
           {
            "marker": {
             "colorbar": {
              "outlinewidth": 0,
              "ticks": ""
             }
            },
            "type": "scatterpolargl"
           }
          ],
          "scatterternary": [
           {
            "marker": {
             "colorbar": {
              "outlinewidth": 0,
              "ticks": ""
             }
            },
            "type": "scatterternary"
           }
          ],
          "surface": [
           {
            "colorbar": {
             "outlinewidth": 0,
             "ticks": ""
            },
            "colorscale": [
             [
              0,
              "#0d0887"
             ],
             [
              0.1111111111111111,
              "#46039f"
             ],
             [
              0.2222222222222222,
              "#7201a8"
             ],
             [
              0.3333333333333333,
              "#9c179e"
             ],
             [
              0.4444444444444444,
              "#bd3786"
             ],
             [
              0.5555555555555556,
              "#d8576b"
             ],
             [
              0.6666666666666666,
              "#ed7953"
             ],
             [
              0.7777777777777778,
              "#fb9f3a"
             ],
             [
              0.8888888888888888,
              "#fdca26"
             ],
             [
              1,
              "#f0f921"
             ]
            ],
            "type": "surface"
           }
          ],
          "table": [
           {
            "cells": {
             "fill": {
              "color": "#EBF0F8"
             },
             "line": {
              "color": "white"
             }
            },
            "header": {
             "fill": {
              "color": "#C8D4E3"
             },
             "line": {
              "color": "white"
             }
            },
            "type": "table"
           }
          ]
         },
         "layout": {
          "annotationdefaults": {
           "arrowcolor": "#2a3f5f",
           "arrowhead": 0,
           "arrowwidth": 1
          },
          "autotypenumbers": "strict",
          "coloraxis": {
           "colorbar": {
            "outlinewidth": 0,
            "ticks": ""
           }
          },
          "colorscale": {
           "diverging": [
            [
             0,
             "#8e0152"
            ],
            [
             0.1,
             "#c51b7d"
            ],
            [
             0.2,
             "#de77ae"
            ],
            [
             0.3,
             "#f1b6da"
            ],
            [
             0.4,
             "#fde0ef"
            ],
            [
             0.5,
             "#f7f7f7"
            ],
            [
             0.6,
             "#e6f5d0"
            ],
            [
             0.7,
             "#b8e186"
            ],
            [
             0.8,
             "#7fbc41"
            ],
            [
             0.9,
             "#4d9221"
            ],
            [
             1,
             "#276419"
            ]
           ],
           "sequential": [
            [
             0,
             "#0d0887"
            ],
            [
             0.1111111111111111,
             "#46039f"
            ],
            [
             0.2222222222222222,
             "#7201a8"
            ],
            [
             0.3333333333333333,
             "#9c179e"
            ],
            [
             0.4444444444444444,
             "#bd3786"
            ],
            [
             0.5555555555555556,
             "#d8576b"
            ],
            [
             0.6666666666666666,
             "#ed7953"
            ],
            [
             0.7777777777777778,
             "#fb9f3a"
            ],
            [
             0.8888888888888888,
             "#fdca26"
            ],
            [
             1,
             "#f0f921"
            ]
           ],
           "sequentialminus": [
            [
             0,
             "#0d0887"
            ],
            [
             0.1111111111111111,
             "#46039f"
            ],
            [
             0.2222222222222222,
             "#7201a8"
            ],
            [
             0.3333333333333333,
             "#9c179e"
            ],
            [
             0.4444444444444444,
             "#bd3786"
            ],
            [
             0.5555555555555556,
             "#d8576b"
            ],
            [
             0.6666666666666666,
             "#ed7953"
            ],
            [
             0.7777777777777778,
             "#fb9f3a"
            ],
            [
             0.8888888888888888,
             "#fdca26"
            ],
            [
             1,
             "#f0f921"
            ]
           ]
          },
          "colorway": [
           "#636efa",
           "#EF553B",
           "#00cc96",
           "#ab63fa",
           "#FFA15A",
           "#19d3f3",
           "#FF6692",
           "#B6E880",
           "#FF97FF",
           "#FECB52"
          ],
          "font": {
           "color": "#2a3f5f"
          },
          "geo": {
           "bgcolor": "white",
           "lakecolor": "white",
           "landcolor": "#E5ECF6",
           "showlakes": true,
           "showland": true,
           "subunitcolor": "white"
          },
          "hoverlabel": {
           "align": "left"
          },
          "hovermode": "closest",
          "mapbox": {
           "style": "light"
          },
          "paper_bgcolor": "white",
          "plot_bgcolor": "#E5ECF6",
          "polar": {
           "angularaxis": {
            "gridcolor": "white",
            "linecolor": "white",
            "ticks": ""
           },
           "bgcolor": "#E5ECF6",
           "radialaxis": {
            "gridcolor": "white",
            "linecolor": "white",
            "ticks": ""
           }
          },
          "scene": {
           "xaxis": {
            "backgroundcolor": "#E5ECF6",
            "gridcolor": "white",
            "gridwidth": 2,
            "linecolor": "white",
            "showbackground": true,
            "ticks": "",
            "zerolinecolor": "white"
           },
           "yaxis": {
            "backgroundcolor": "#E5ECF6",
            "gridcolor": "white",
            "gridwidth": 2,
            "linecolor": "white",
            "showbackground": true,
            "ticks": "",
            "zerolinecolor": "white"
           },
           "zaxis": {
            "backgroundcolor": "#E5ECF6",
            "gridcolor": "white",
            "gridwidth": 2,
            "linecolor": "white",
            "showbackground": true,
            "ticks": "",
            "zerolinecolor": "white"
           }
          },
          "shapedefaults": {
           "line": {
            "color": "#2a3f5f"
           }
          },
          "ternary": {
           "aaxis": {
            "gridcolor": "white",
            "linecolor": "white",
            "ticks": ""
           },
           "baxis": {
            "gridcolor": "white",
            "linecolor": "white",
            "ticks": ""
           },
           "bgcolor": "#E5ECF6",
           "caxis": {
            "gridcolor": "white",
            "linecolor": "white",
            "ticks": ""
           }
          },
          "title": {
           "x": 0.05
          },
          "xaxis": {
           "automargin": true,
           "gridcolor": "white",
           "linecolor": "white",
           "ticks": "",
           "title": {
            "standoff": 15
           },
           "zerolinecolor": "white",
           "zerolinewidth": 2
          },
          "yaxis": {
           "automargin": true,
           "gridcolor": "white",
           "linecolor": "white",
           "ticks": "",
           "title": {
            "standoff": 15
           },
           "zerolinecolor": "white",
           "zerolinewidth": 2
          }
         }
        },
        "title": {
         "text": "Direct religious association of IJOP App \"Person Types\" data collection"
        },
        "xaxis": {
         "anchor": "y",
         "categoryarray": [
          "Yes",
          "No"
         ],
         "categoryorder": "array",
         "domain": [
          0,
          1
         ],
         "title": {
          "text": "Do \"Person Type(s)\" directly record individuals' religion? How many?"
         }
        },
        "yaxis": {
         "anchor": "x",
         "domain": [
          0,
          1
         ],
         "ticklabelposition": "inside bottom",
         "tickmode": "array",
         "tickvals": [
          0,
          5,
          31
         ],
         "title": {
          "text": "Number of Person Type(s)"
         },
         "visible": true
        }
       }
      },
      "text/html": [
       "<div>                            <div id=\"154693a2-0b2b-459e-86a1-8a1add59de21\" class=\"plotly-graph-div\" style=\"height:525px; width:100%;\"></div>            <script type=\"text/javascript\">                require([\"plotly\"], function(Plotly) {                    window.PLOTLYENV=window.PLOTLYENV || {};                                    if (document.getElementById(\"154693a2-0b2b-459e-86a1-8a1add59de21\")) {                    Plotly.newPlot(                        \"154693a2-0b2b-459e-86a1-8a1add59de21\",                        [{\"alignmentgroup\": \"True\", \"bingroup\": \"x\", \"histfunc\": \"count\", \"hovertemplate\": \"Associated Religion=Islam<br>count=%{y}<extra></extra>\", \"legendgroup\": \"Islam\", \"marker\": {\"color\": [\"#0099FF\"], \"opacity\": 1}, \"name\": \"Islam\", \"offsetgroup\": \"Islam\", \"orientation\": \"v\", \"showlegend\": true, \"type\": \"histogram\", \"x\": [\"Yes\", \"Yes\", \"Yes\", \"Yes\", \"Yes\"], \"xaxis\": \"x\", \"yaxis\": \"y\"}, {\"alignmentgroup\": \"True\", \"bingroup\": \"x\", \"histfunc\": \"count\", \"hovertemplate\": \"Associated Religion=Not applicable<br>count=%{y}<extra></extra>\", \"legendgroup\": \"Not applicable\", \"marker\": {\"color\": [\"#DADEDA\"], \"opacity\": 1}, \"name\": \"Not applicable\", \"offsetgroup\": \"Not applicable\", \"orientation\": \"v\", \"showlegend\": true, \"type\": \"histogram\", \"x\": [\"No\", \"No\", \"No\", \"No\", \"No\", \"No\", \"No\", \"No\", \"No\", \"No\", \"No\", \"No\", \"No\", \"No\", \"No\", \"No\", \"No\", \"No\", \"No\", \"No\", \"No\", \"No\", \"No\", \"No\", \"No\", \"No\", \"No\", \"No\", \"No\", \"No\", \"No\"], \"xaxis\": \"x\", \"yaxis\": \"y\"}],                        {\"bargap\": 0.075, \"barmode\": \"relative\", \"font\": {\"color\": \"#DADEDA\", \"size\": 15}, \"legend\": {\"title\": {\"text\": \"Associated Religion\"}, \"tracegroupgap\": 0}, \"margin\": {\"pad\": 0}, \"paper_bgcolor\": \"#000000\", \"plot_bgcolor\": \"hsla(357.4,86.1%,52.2%,1)\", \"template\": {\"data\": {\"bar\": [{\"error_x\": {\"color\": \"#2a3f5f\"}, \"error_y\": {\"color\": \"#2a3f5f\"}, \"marker\": {\"line\": {\"color\": \"#E5ECF6\", \"width\": 0.5}}, \"type\": \"bar\"}], \"barpolar\": [{\"marker\": {\"line\": {\"color\": \"#E5ECF6\", \"width\": 0.5}}, \"type\": \"barpolar\"}], \"carpet\": [{\"aaxis\": {\"endlinecolor\": \"#2a3f5f\", \"gridcolor\": \"white\", \"linecolor\": \"white\", \"minorgridcolor\": \"white\", \"startlinecolor\": \"#2a3f5f\"}, \"baxis\": {\"endlinecolor\": \"#2a3f5f\", \"gridcolor\": \"white\", \"linecolor\": \"white\", \"minorgridcolor\": \"white\", \"startlinecolor\": \"#2a3f5f\"}, \"type\": \"carpet\"}], \"choropleth\": [{\"colorbar\": {\"outlinewidth\": 0, \"ticks\": \"\"}, \"type\": \"choropleth\"}], \"contour\": [{\"colorbar\": {\"outlinewidth\": 0, \"ticks\": \"\"}, \"colorscale\": [[0.0, \"#0d0887\"], [0.1111111111111111, \"#46039f\"], [0.2222222222222222, \"#7201a8\"], [0.3333333333333333, \"#9c179e\"], [0.4444444444444444, \"#bd3786\"], [0.5555555555555556, \"#d8576b\"], [0.6666666666666666, \"#ed7953\"], [0.7777777777777778, \"#fb9f3a\"], [0.8888888888888888, \"#fdca26\"], [1.0, \"#f0f921\"]], \"type\": \"contour\"}], \"contourcarpet\": [{\"colorbar\": {\"outlinewidth\": 0, \"ticks\": \"\"}, \"type\": \"contourcarpet\"}], \"heatmap\": [{\"colorbar\": {\"outlinewidth\": 0, \"ticks\": \"\"}, \"colorscale\": [[0.0, \"#0d0887\"], [0.1111111111111111, \"#46039f\"], [0.2222222222222222, \"#7201a8\"], [0.3333333333333333, \"#9c179e\"], [0.4444444444444444, \"#bd3786\"], [0.5555555555555556, \"#d8576b\"], [0.6666666666666666, \"#ed7953\"], [0.7777777777777778, \"#fb9f3a\"], [0.8888888888888888, \"#fdca26\"], [1.0, \"#f0f921\"]], \"type\": \"heatmap\"}], \"heatmapgl\": [{\"colorbar\": {\"outlinewidth\": 0, \"ticks\": \"\"}, \"colorscale\": [[0.0, \"#0d0887\"], [0.1111111111111111, \"#46039f\"], [0.2222222222222222, \"#7201a8\"], [0.3333333333333333, \"#9c179e\"], [0.4444444444444444, \"#bd3786\"], [0.5555555555555556, \"#d8576b\"], [0.6666666666666666, \"#ed7953\"], [0.7777777777777778, \"#fb9f3a\"], [0.8888888888888888, \"#fdca26\"], [1.0, \"#f0f921\"]], \"type\": \"heatmapgl\"}], \"histogram\": [{\"marker\": {\"colorbar\": {\"outlinewidth\": 0, \"ticks\": \"\"}}, \"type\": \"histogram\"}], \"histogram2d\": [{\"colorbar\": {\"outlinewidth\": 0, \"ticks\": \"\"}, \"colorscale\": [[0.0, \"#0d0887\"], [0.1111111111111111, \"#46039f\"], [0.2222222222222222, \"#7201a8\"], [0.3333333333333333, \"#9c179e\"], [0.4444444444444444, \"#bd3786\"], [0.5555555555555556, \"#d8576b\"], [0.6666666666666666, \"#ed7953\"], [0.7777777777777778, \"#fb9f3a\"], [0.8888888888888888, \"#fdca26\"], [1.0, \"#f0f921\"]], \"type\": \"histogram2d\"}], \"histogram2dcontour\": [{\"colorbar\": {\"outlinewidth\": 0, \"ticks\": \"\"}, \"colorscale\": [[0.0, \"#0d0887\"], [0.1111111111111111, \"#46039f\"], [0.2222222222222222, \"#7201a8\"], [0.3333333333333333, \"#9c179e\"], [0.4444444444444444, \"#bd3786\"], [0.5555555555555556, \"#d8576b\"], [0.6666666666666666, \"#ed7953\"], [0.7777777777777778, \"#fb9f3a\"], [0.8888888888888888, \"#fdca26\"], [1.0, \"#f0f921\"]], \"type\": \"histogram2dcontour\"}], \"mesh3d\": [{\"colorbar\": {\"outlinewidth\": 0, \"ticks\": \"\"}, \"type\": \"mesh3d\"}], \"parcoords\": [{\"line\": {\"colorbar\": {\"outlinewidth\": 0, \"ticks\": \"\"}}, \"type\": \"parcoords\"}], \"pie\": [{\"automargin\": true, \"type\": \"pie\"}], \"scatter\": [{\"marker\": {\"colorbar\": {\"outlinewidth\": 0, \"ticks\": \"\"}}, \"type\": \"scatter\"}], \"scatter3d\": [{\"line\": {\"colorbar\": {\"outlinewidth\": 0, \"ticks\": \"\"}}, \"marker\": {\"colorbar\": {\"outlinewidth\": 0, \"ticks\": \"\"}}, \"type\": \"scatter3d\"}], \"scattercarpet\": [{\"marker\": {\"colorbar\": {\"outlinewidth\": 0, \"ticks\": \"\"}}, \"type\": \"scattercarpet\"}], \"scattergeo\": [{\"marker\": {\"colorbar\": {\"outlinewidth\": 0, \"ticks\": \"\"}}, \"type\": \"scattergeo\"}], \"scattergl\": [{\"marker\": {\"colorbar\": {\"outlinewidth\": 0, \"ticks\": \"\"}}, \"type\": \"scattergl\"}], \"scattermapbox\": [{\"marker\": {\"colorbar\": {\"outlinewidth\": 0, \"ticks\": \"\"}}, \"type\": \"scattermapbox\"}], \"scatterpolar\": [{\"marker\": {\"colorbar\": {\"outlinewidth\": 0, \"ticks\": \"\"}}, \"type\": \"scatterpolar\"}], \"scatterpolargl\": [{\"marker\": {\"colorbar\": {\"outlinewidth\": 0, \"ticks\": \"\"}}, \"type\": \"scatterpolargl\"}], \"scatterternary\": [{\"marker\": {\"colorbar\": {\"outlinewidth\": 0, \"ticks\": \"\"}}, \"type\": \"scatterternary\"}], \"surface\": [{\"colorbar\": {\"outlinewidth\": 0, \"ticks\": \"\"}, \"colorscale\": [[0.0, \"#0d0887\"], [0.1111111111111111, \"#46039f\"], [0.2222222222222222, \"#7201a8\"], [0.3333333333333333, \"#9c179e\"], [0.4444444444444444, \"#bd3786\"], [0.5555555555555556, \"#d8576b\"], [0.6666666666666666, \"#ed7953\"], [0.7777777777777778, \"#fb9f3a\"], [0.8888888888888888, \"#fdca26\"], [1.0, \"#f0f921\"]], \"type\": \"surface\"}], \"table\": [{\"cells\": {\"fill\": {\"color\": \"#EBF0F8\"}, \"line\": {\"color\": \"white\"}}, \"header\": {\"fill\": {\"color\": \"#C8D4E3\"}, \"line\": {\"color\": \"white\"}}, \"type\": \"table\"}]}, \"layout\": {\"annotationdefaults\": {\"arrowcolor\": \"#2a3f5f\", \"arrowhead\": 0, \"arrowwidth\": 1}, \"autotypenumbers\": \"strict\", \"coloraxis\": {\"colorbar\": {\"outlinewidth\": 0, \"ticks\": \"\"}}, \"colorscale\": {\"diverging\": [[0, \"#8e0152\"], [0.1, \"#c51b7d\"], [0.2, \"#de77ae\"], [0.3, \"#f1b6da\"], [0.4, \"#fde0ef\"], [0.5, \"#f7f7f7\"], [0.6, \"#e6f5d0\"], [0.7, \"#b8e186\"], [0.8, \"#7fbc41\"], [0.9, \"#4d9221\"], [1, \"#276419\"]], \"sequential\": [[0.0, \"#0d0887\"], [0.1111111111111111, \"#46039f\"], [0.2222222222222222, \"#7201a8\"], [0.3333333333333333, \"#9c179e\"], [0.4444444444444444, \"#bd3786\"], [0.5555555555555556, \"#d8576b\"], [0.6666666666666666, \"#ed7953\"], [0.7777777777777778, \"#fb9f3a\"], [0.8888888888888888, \"#fdca26\"], [1.0, \"#f0f921\"]], \"sequentialminus\": [[0.0, \"#0d0887\"], [0.1111111111111111, \"#46039f\"], [0.2222222222222222, \"#7201a8\"], [0.3333333333333333, \"#9c179e\"], [0.4444444444444444, \"#bd3786\"], [0.5555555555555556, \"#d8576b\"], [0.6666666666666666, \"#ed7953\"], [0.7777777777777778, \"#fb9f3a\"], [0.8888888888888888, \"#fdca26\"], [1.0, \"#f0f921\"]]}, \"colorway\": [\"#636efa\", \"#EF553B\", \"#00cc96\", \"#ab63fa\", \"#FFA15A\", \"#19d3f3\", \"#FF6692\", \"#B6E880\", \"#FF97FF\", \"#FECB52\"], \"font\": {\"color\": \"#2a3f5f\"}, \"geo\": {\"bgcolor\": \"white\", \"lakecolor\": \"white\", \"landcolor\": \"#E5ECF6\", \"showlakes\": true, \"showland\": true, \"subunitcolor\": \"white\"}, \"hoverlabel\": {\"align\": \"left\"}, \"hovermode\": \"closest\", \"mapbox\": {\"style\": \"light\"}, \"paper_bgcolor\": \"white\", \"plot_bgcolor\": \"#E5ECF6\", \"polar\": {\"angularaxis\": {\"gridcolor\": \"white\", \"linecolor\": \"white\", \"ticks\": \"\"}, \"bgcolor\": \"#E5ECF6\", \"radialaxis\": {\"gridcolor\": \"white\", \"linecolor\": \"white\", \"ticks\": \"\"}}, \"scene\": {\"xaxis\": {\"backgroundcolor\": \"#E5ECF6\", \"gridcolor\": \"white\", \"gridwidth\": 2, \"linecolor\": \"white\", \"showbackground\": true, \"ticks\": \"\", \"zerolinecolor\": \"white\"}, \"yaxis\": {\"backgroundcolor\": \"#E5ECF6\", \"gridcolor\": \"white\", \"gridwidth\": 2, \"linecolor\": \"white\", \"showbackground\": true, \"ticks\": \"\", \"zerolinecolor\": \"white\"}, \"zaxis\": {\"backgroundcolor\": \"#E5ECF6\", \"gridcolor\": \"white\", \"gridwidth\": 2, \"linecolor\": \"white\", \"showbackground\": true, \"ticks\": \"\", \"zerolinecolor\": \"white\"}}, \"shapedefaults\": {\"line\": {\"color\": \"#2a3f5f\"}}, \"ternary\": {\"aaxis\": {\"gridcolor\": \"white\", \"linecolor\": \"white\", \"ticks\": \"\"}, \"baxis\": {\"gridcolor\": \"white\", \"linecolor\": \"white\", \"ticks\": \"\"}, \"bgcolor\": \"#E5ECF6\", \"caxis\": {\"gridcolor\": \"white\", \"linecolor\": \"white\", \"ticks\": \"\"}}, \"title\": {\"x\": 0.05}, \"xaxis\": {\"automargin\": true, \"gridcolor\": \"white\", \"linecolor\": \"white\", \"ticks\": \"\", \"title\": {\"standoff\": 15}, \"zerolinecolor\": \"white\", \"zerolinewidth\": 2}, \"yaxis\": {\"automargin\": true, \"gridcolor\": \"white\", \"linecolor\": \"white\", \"ticks\": \"\", \"title\": {\"standoff\": 15}, \"zerolinecolor\": \"white\", \"zerolinewidth\": 2}}}, \"title\": {\"text\": \"Direct religious association of IJOP App \\\"Person Types\\\" data collection\"}, \"xaxis\": {\"anchor\": \"y\", \"categoryarray\": [\"Yes\", \"No\"], \"categoryorder\": \"array\", \"domain\": [0.0, 1.0], \"title\": {\"text\": \"Do \\\"Person Type(s)\\\" directly record individuals' religion? How many?\"}}, \"yaxis\": {\"anchor\": \"x\", \"domain\": [0.0, 1.0], \"ticklabelposition\": \"inside bottom\", \"tickmode\": \"array\", \"tickvals\": [0, 5, 31], \"title\": {\"text\": \"Number of Person Type(s)\"}, \"visible\": true}},                        {\"responsive\": true}                    ).then(function(){\n",
       "                            \n",
       "var gd = document.getElementById('154693a2-0b2b-459e-86a1-8a1add59de21');\n",
       "var x = new MutationObserver(function (mutations, observer) {{\n",
       "        var display = window.getComputedStyle(gd).display;\n",
       "        if (!display || display === 'none') {{\n",
       "            console.log([gd, 'removed!']);\n",
       "            Plotly.purge(gd);\n",
       "            observer.disconnect();\n",
       "        }}\n",
       "}});\n",
       "\n",
       "// Listen for the removal of the full notebook cells\n",
       "var notebookContainer = gd.closest('#notebook-container');\n",
       "if (notebookContainer) {{\n",
       "    x.observe(notebookContainer, {childList: true});\n",
       "}}\n",
       "\n",
       "// Listen for the clearing of the current output cell\n",
       "var outputEl = gd.closest('.output');\n",
       "if (outputEl) {{\n",
       "    x.observe(outputEl, {childList: true});\n",
       "}}\n",
       "\n",
       "                        })                };                });            </script>        </div>"
      ]
     },
     "metadata": {},
     "output_type": "display_data"
    }
   ],
   "source": [
    "# histogram chart using function (histfunc) of count as y axis (counting distinct person types)\n",
    "\n",
    "fig = px.histogram(persontypes_df, \n",
    "             x=\"Direct Religious Association\", \n",
    "             histfunc='count',\n",
    "             color=\"Associated Religion\", \n",
    "             barmode='relative', \n",
    "             opacity=1,\n",
    "             color_discrete_map={'Islam': ['#0099FF'], \n",
    "                                 'Not applicable': ['#DADEDA']},\n",
    "             category_orders={\"Direct Religious Association\": [\"Yes\", \"No\"], \n",
    "                              \"Associated Religion\": [\"Islam\", \"Not applicable\"]},\n",
    "             hover_data={\"Direct Religious Association\": False, \n",
    "                         \"Associated Religion\": True}, \n",
    "             labels={\"Direct Religious Association\": 'Do \"Person Type(s)\" directly record individuals\\' religion? How many?'},\n",
    "             log_y=False,\n",
    "             title='Direct religious association of IJOP App \"Person Types\" data collection'\n",
    "            )\n",
    "# Make adjustments to above figure to alter formatting\n",
    "# Add a background color, relative to the PRC flag #ee1c25, in tones of (grey added)\n",
    "#fig.update_layout(plot_bgcolor=\"#a3676a\")\n",
    "# Instead using a hsla color converted from #ee1c25, adding the alpha channel for transparency at the end.\n",
    "# With a white paper background, alpha 0.3 or 0.175 worked well, but with change to black background returned to full opacity (1)\n",
    "fig.update_layout(plot_bgcolor=\"hsla(357.4,86.1%,52.2%,1)\", #sets background color of the plotting area, as described in comment above\n",
    "                 margin_pad=0, #adds space between plotting area and axis lines; returned to 0 with black background\n",
    "                 paper_bgcolor=\"#000000\", #sets background color of the paper to black\n",
    "                 font_color=\"#DADEDA\", #sets font color to white\n",
    "                 font_size=15,\n",
    "                 bargap=0.075 \n",
    "                 )\n",
    "\n",
    "# Customize the y axis.\n",
    "fig.update_yaxes(title_text='Number of Person Type(s)',\n",
    "                tickmode=\"array\", # Allows use of an array with tickvals below.\n",
    "                tickvals=[0,5,31], # Sets select values at which ticks on axis appear.\n",
    "                visible=True,\n",
    "                ticklabelposition=\"inside bottom\"\n",
    "                )\n",
    "\n",
    "\n"
   ]
  },
  {
   "cell_type": "markdown",
   "metadata": {},
   "source": [
    "> [China's current leader, President Xi Jinping] has instituted a slew of national security-related legislation that further restricts people’s rights, has pushed to “Sinicize” religion (that is, exerting greater Party control), and initiated various campaigns to shore up loyalty to the [Chinese Communist] Party.$^{[1]}$\n",
    "\n",
    "China's actions to \"Sinicize\"––to make Chinese in character or bring under Chinese influence$^{[6]}$––have reportedly included the mass surveillance of everyone in Xinjiang, however the recording of \"Person Types\" that authorities are *paying special attention to* have included only direct references only to Islam. The app includes a question collecting the religion of the persons interviewed which includes Buddhism, Christianity, Other and None as choices, but only Muslims are considered suspicious for practicing their religion."
   ]
  },
  {
   "cell_type": "markdown",
   "metadata": {},
   "source": [
    "### Data Source(s)\n",
    "\n",
    "__Human Rights Watch__ (HRW) is an advocacy 501(C)(3) nonprofit registered organization in the United States. In its own words, \"(They) are roughly 450 people of 70-plus nationalities who are country experts, lawyers, journalists, and others who work to protect the most at risk, from vulnerable minorities and civilians in wartime, to refugees and children in need.\"$^{[3]}$ Learn more at https://www.hrw.org/\n",
    "\n",
    "__Cure53__ is a Berlin-based (Germany) information security company that HRW enlisted to “reverse engineer” and produce a technical assessment of the IJOP app and its computer programming source code in 2018. Its work formed the basis of the HRW report this visualization is based on.$^{[4]}$$^{[5]}$ Learn more at https://cure53.de/."
   ]
  },
  {
   "cell_type": "markdown",
   "metadata": {},
   "source": [
    "### Visualization Brief\n",
    "\n",
    "Written in the planning of this visualization, to direct decision making throughout execution for its effectiveness.\n",
    "\n",
    "1. **Goals/Intent**: Illustrate how *religion factors into the surveillance and data collection by China's officials* of the residents living in its recognized Xinjiang Uyghur Autonomous Region. Calculate and show exactly *to what extent religion directly is used* in its process of identifying suspicious persons. An example of potential application is for HRW to incorporate this or a similar visualization into a report such as its 2019 *China’s Algorithms of Repression, Human Rights Watch* which was the source of data used in these graphs.\n",
    "\n",
    "\n",
    "2. **Primary Audience**: To Concerned Governments (international and outside of China), I direct this visualization with the aim to encourage them to publicly name, along with existing individuals, any and all businesses or technology companies along with and as part of export control lists or to the extent there are any assets under control outside of China that may be freezed by international parties, whether owned in whole or in part publicly or by the 'state' of China, \n",
    "    1. This is informed by HRW as it cited Chinese companies as one of its *Recommendations* to *Concerned Governments*. \n",
    "    2. I would have liked to focus on the technology companies and the extent to which technology acts amplify this inequitable surveillance and data collection on the basis of religion, however because the company that built this app and its parent corporation are both solely 100% owned by the government of China, PRC, it seems like a mute point to focus on the complicity of technology companies and their responsibility to prevent human rights abuses as separate from the government or other purchasers or users of its technology.\n",
    "\n",
    "\n",
    "3. **Approach**: Supplement the HRW written report and screenshots of the IJOP app with visual representations of the data being collected in the context of religion. \n",
    "    1. Construct a data table from the reported app questions and religions list of choides of religions it included in its data collection. \n",
    "    2. Provide clear representation of app content as data rather than solely reporting it in the form of text which risks it being interpreted as prose, leaving facts to be watered down as the audience forms its picture of the information presented. \n",
    "    3. Plainly compare among those religions listed as choices, how many of the 36 \"Person Types\" the Chinese officials are paying special attention to through the app data collection throughout *East Turkistan/Xinjiang* are directly associated with each religion and/or its known practices. \n",
    "    4. Disregard any indirect or implied connection to religion for this fact based purpose purpose, such as implication in the riots of Urumqi even though that is generally known to have been Uyghur peoples who were involved and who are majority practicing of Islamic religion."
   ]
  },
  {
   "cell_type": "markdown",
   "metadata": {},
   "source": [
    "### Cited or Referenced\n",
    "\n",
    "$^{[1]}$ China’s Algorithms of Repression, Human Rights Watch, 5/1/2019, https://www.hrw.org/report/2019/05/01/chinas-algorithms-repression/reverse-engineering-xinjiang-police-mass\n",
    "\n",
    "$^{[2]}$ Uyghur' or 'Uighur'?, Radio Free Asia, 9/10/2010, https://www.rfa.org/english/news/uyghur/uyghur-spelling-09062010161733.html\n",
    "\n",
    "$^{[3]}$ About Us: Who We Are, Human Rights Watch, accessed 6/9/2021, https://www.hrw.org/about/about-us\n",
    "\n",
    "$^{[4]}$ Cure53: Fine penetration tests for fine websites, Cure53, accessed 6/13/2021, https://cure53.de/\n",
    "\n",
    "$^{[5]}$ Analysis-Report Chinese Police App “IJOP” 12.2018, Several Members of the Cure53 Team, Cure53, accessed 6/13/2021, https://cure53.de/analysis-report_ijop.pdf\n",
    "\n",
    "$^{[6]}$ Sinicize, Dictionary.com, accessed 6/13/2021, https://www.dictionary.com/browse/sinicize\n",
    "\n",
    "National Flag, East Turkistan National Awakening Movement, accessed 6/12/2021, https://nationalawakening.org/national-flag/ _(cited, \"#0099FF is the official color code for the flag as designated by East Turkistan Government in Exile.\")\n",
    "\n",
    "Flag of East Turkestan, LinkFang, accessed 6/12/2021,\n",
    "https://en.linkfang.org/wiki/Flag_of_East_Turkestan#cite_note-4 _(cited #65B7FF hexidecimal color of flag)_\n",
    "\n",
    "Uyghur Academy on Uyghur issue, Uyghur Academy, accessed 6/12/2021, https://www.akademiye.org/ug/?p=12015 _(cited #65B7FF hexidecimal color of flag)_\n",
    "\n",
    "File:The Flag of East Turkistan Republic.png, Wikimedia Commons, accessed 6/12/2021, https://commons.wikimedia.org/wiki/File:The_Flag_of_East_Turkistan_Republic.png, licensed under the <a href=\"https://en.wikipedia.org/wiki/en:Creative_Commons\">Creative Commons</a> <a href=\"https://creativecommons.org/licenses/by-sa/3.0/deed.en\">Attribution-Share Alike 3.0 Unported license</a>. _(used #65B7FF hexidecimal color of flag)_\n",
    "\n",
    "National flag pattern used on the Internet, The National People's Congress of the People's Republic of China, accessed 6/12/2021, http://www.npc.gov.cn/npc/gqgggh/202012/7ac70d3a4cfb480ea9edc872bdc85578.shtml\n",
    "\n",
    "Flag of China, Wikipedia, accessed 6/12/2021, https://en.wikipedia.org/wiki/Flag_of_China, _(cited #ee1c25 hexidecimal color of flag)_\n",
    "\n",
    "#ee1c25, ColorHexa #ee1c25 hex color, accessed 6/12/2021, https://www.colorhexa.com/ee1c25"
   ]
  }
 ],
 "metadata": {
  "kernelspec": {
   "display_name": "Python 3",
   "language": "python",
   "name": "python3"
  },
  "language_info": {
   "codemirror_mode": {
    "name": "ipython",
    "version": 3
   },
   "file_extension": ".py",
   "mimetype": "text/x-python",
   "name": "python",
   "nbconvert_exporter": "python",
   "pygments_lexer": "ipython3",
   "version": "3.8.3"
  }
 },
 "nbformat": 4,
 "nbformat_minor": 4
}
